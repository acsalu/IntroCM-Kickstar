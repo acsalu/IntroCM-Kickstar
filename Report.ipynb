{
 "cells": [
  {
   "cell_type": "markdown",
   "metadata": {},
   "source": [
    "# Kickstarter: What Makes Projects Succeed/Fail?\n",
    "#### IntroCM Spring 2016, Cornell Tech\n",
    "Inna Shteinbuk (ibs26) & Huai-Che Lu (hl938)"
   ]
  },
  {
   "cell_type": "markdown",
   "metadata": {},
   "source": [
    "## Introduction\n",
    "Crowdfunding is the practice of raising venture from the general public. Sites like [Kickstarter](https://www.kickstarter.com/) and [Indiegogo](https://www.indiegogo.com/) provide internet-mediated services to support the process of requesting and offering monetary help. In this project, we looked into different textual and social factors to see how they relate to the success or failure of projects.\n",
    "\n",
    "On Kickstarter, creators launch projects where they can talk about the products and demonstrate the progress to attract backers' willingess to fund the projects. In return, creators give backers different rewards based on the sponsored amount. It's notable that the pledge rewards come with a delay after the backers provide the money, which is largest difference between crowdfunding sites and other e-commerce services.\n",
    "\n",
    "## Related Work\n",
    "Althoff et al. looked at [Random Acts of Pizza (RAOP)](http://randomactsofpizza.com/) to see the textual and social factors that influence the success of altruistic requests[1]. In RAOP, requesters ask for pizzas. Serveral factors like politeness, evidentiality, reciprocity, sentiment, and length; status, similarity were taken into consideration. \n",
    "\n",
    "Mitra et al. also discussed the language on Kickstarter [2].\n",
    "\n",
    "## Research Questions\n",
    "Differences between Kickstarter and RAOP:\n",
    "1. Mutual-beneficial vs. Altruistic\n",
    "2. Diversed content vs. Pizza\n",
    "\n",
    "We're interested in how the information shown on Kickstarter affect the creator-backer dynamic on the site.\n",
    "\n",
    "## Hypotheses\n",
    "\n",
    "- The whole dataset\n",
    "    - **H1 [Trust]: ** Project creators are asking more money overtime.\n",
    "    - **H2 [Reputation]: ** Project creators with good records are more likely to get help.\n",
    "- Tech dataset \n",
    "    - **H3 [Reciprocity]: ** People who have already been backed, are more likely to back other projects.\n",
    "    - **H4 [Similarity]:**\n",
    "        - ** H4.1 (Interest-based): ** People are more likely to back projects in the same category as the projects they’ve created.\n",
    "        - ** H4.2 (Location-based): ** People are more willing to back creators from the same country.\n",
    "    - **H6 [Effort]:**\n",
    "    - **H7 [Language]:**\n",
    "    \n",
    "## CM Theories"
   ]
  },
  {
   "cell_type": "markdown",
   "metadata": {},
   "source": [
    "## Dataset Overview\n",
    "### Original Data\n",
    "The dataset contains all the projects from 04/2009 - 04/2016.\n",
    "\n",
    "### Scraped Data\n",
    "In additional to the original data, we wrote our own scrapers to get more information on a subset of the original dataset (successful or failed projects in Technology category from 01/2014 - 04/2016). The following information was collected:\n",
    "- Numerical\n",
    "    1. Projects that creators backed (Category, Timestamps)\n",
    "    2. Community Data (Top countries, Top cities)\n",
    "- Textual\n",
    "    1. Full project description\n",
    "    2. Risks and challenges"
   ]
  },
  {
   "cell_type": "markdown",
   "metadata": {},
   "source": [
    "** Import Pakcages **"
   ]
  },
  {
   "cell_type": "code",
   "execution_count": 567,
   "metadata": {
    "collapsed": false
   },
   "outputs": [],
   "source": [
    "import time\n",
    "import json\n",
    "from collections import Counter\n",
    "from datetime import datetime\n",
    "\n",
    "%matplotlib inline\n",
    "import pandas as pd\n",
    "import numpy as np\n",
    "from scipy import stats\n",
    "import matplotlib.pyplot as plt\n",
    "from matplotlib.ticker import FuncFormatter\n",
    "plt.style.use('ggplot')"
   ]
  },
  {
   "cell_type": "markdown",
   "metadata": {},
   "source": [
    "## H1: Trust\n",
    "** Project creators are willing to ask for more money overtime. **\n",
    "\n",
    "We're interested in users' overall trust in the crowdfunding platform and the ecosystem. To measure this constrct, we looked at the money people are asking for. The idea was that the more people are asking for, the more trust they have in the platform.\n",
    "\n",
    "We aggregated the median of project goals (the variation is pretty large, so we use median instead of mean to minimize the effect of outliers) for each month, and ploted bar charts for all projects as well as the successful and failed ones. The result showed that an increasing trend of the money people are asking for on Kickstarter. For all projects, the number has increased from 3K USD to 5K USD in the past 7 years. This supported our hypothesis that people's trust increases overtime."
   ]
  },
  {
   "cell_type": "code",
   "execution_count": 465,
   "metadata": {
    "collapsed": false
   },
   "outputs": [],
   "source": [
    "df = pd.read_csv('data/Kickstarter_all.csv', encoding='utf-8', index_col=0)\n",
    "df.drop_duplicates(inplace=True)\n",
    "df = df[(df.state == 'successful') | (df.state == 'failed')]\n",
    "df.sort_values(by='created_at', inplace=True)"
   ]
  },
  {
   "cell_type": "code",
   "execution_count": 466,
   "metadata": {
    "collapsed": true
   },
   "outputs": [],
   "source": [
    "# convert Unix time to month string\n",
    "def timestamp2monthstr(t):\n",
    "    d = datetime.fromtimestamp(t)\n",
    "    return \"%d/%d\" % (d.month, d.year)\n",
    "\n",
    "# convert month string to the Unix time of the first day of that month\n",
    "def monthstr2timestamp(s):\n",
    "    first_day = '1/' + s\n",
    "    return time.mktime(datetime.strptime(first_day, '%d/%m/%Y').timetuple())\n",
    "\n",
    "df['created_month'] = df.created_at.apply(timestamp2monthstr)"
   ]
  },
  {
   "cell_type": "code",
   "execution_count": 467,
   "metadata": {
    "collapsed": false
   },
   "outputs": [],
   "source": [
    "def plot_trust(df, key):\n",
    "    gb = df.groupby(key)\n",
    "    median_goals = gb.apply(lambda g: np.median(g.goal))\n",
    "    \n",
    "    timestamps = [monthstr2timestamp(key) for key, g in gb]\n",
    "    median_goals = [mg for mg in median_goals]\n",
    "    \n",
    "    df_plot = pd.DataFrame()\n",
    "    df_plot['median_goal'] = pd.Series(median_goals)\n",
    "    df_plot['timestamp'] = pd.Series(timestamps)\n",
    "    df_plot.sort_values(by='timestamp', inplace=True)\n",
    "    \n",
    "    def millions(y, pos):\n",
    "        'The two args are the value and tick position'\n",
    "        return '$%dK' % (y * 1e-3)\n",
    "\n",
    "    def timestamp_formatter(t, pos):\n",
    "        return timestamp2monthstr(timestamps[pos]) if pos % 3 == 0 else \"\"\n",
    "\n",
    "    plt.figure()\n",
    "    ax = df_plot.plot.bar(x='timestamp', y='median_goal', figsize=(10, 5))\n",
    "    ax.set_ylabel('Median Goal (USD)')\n",
    "    ax.set_xlabel('Time')\n",
    "    ax.yaxis.set_major_formatter(FuncFormatter(millions))\n",
    "    ax.xaxis.set_major_formatter(FuncFormatter(timestamp_formatter))\n",
    "    plt.show()"
   ]
  },
  {
   "cell_type": "code",
   "execution_count": 468,
   "metadata": {
    "collapsed": false
   },
   "outputs": [
    {
     "data": {
      "text/plain": [
       "<matplotlib.figure.Figure at 0x12f9de310>"
      ]
     },
     "metadata": {},
     "output_type": "display_data"
    },
    {
     "data": {
      "image/png": "[encoded data removed]",
      "text/plain": [
       "<matplotlib.figure.Figure at 0x132f21ad0>"
      ]
     },
     "metadata": {},
     "output_type": "display_data"
    }
   ],
   "source": [
    "plot_trust(df, 'created_month')"
   ]
  },
  {
   "cell_type": "code",
   "execution_count": 469,
   "metadata": {
    "collapsed": false
   },
   "outputs": [
    {
     "data": {
      "text/plain": [
       "<matplotlib.figure.Figure at 0x132f12e50>"
      ]
     },
     "metadata": {},
     "output_type": "display_data"
    },
    {
     "data": {
      "image/png": "[encoded data removed]",
      "text/plain": [
       "<matplotlib.figure.Figure at 0x13d52ab10>"
      ]
     },
     "metadata": {},
     "output_type": "display_data"
    }
   ],
   "source": [
    "plot_trust(df[df.state == 'successful'], 'created_month')"
   ]
  },
  {
   "cell_type": "code",
   "execution_count": 470,
   "metadata": {
    "collapsed": false
   },
   "outputs": [
    {
     "data": {
      "text/plain": [
       "<matplotlib.figure.Figure at 0x12464eb90>"
      ]
     },
     "metadata": {},
     "output_type": "display_data"
    },
    {
     "data": {
      "image/png": "[encoded data removed]",
      "text/plain": [
       "<matplotlib.figure.Figure at 0x131c04fd0>"
      ]
     },
     "metadata": {},
     "output_type": "display_data"
    }
   ],
   "source": [
    "plot_trust(df[df.state == 'failed'], 'created_month')"
   ]
  },
  {
   "cell_type": "markdown",
   "metadata": {},
   "source": [
    "## H2: Reputation\n",
    "** Project creators with good records are more likely to get help. **\n",
    "\n",
    "Due to the nature for crowdfunding, there're risks that the project won't be carried out. Therefore, we thought that people would use the past records of the creator as an assessment signal to help them determing whether offer thier help.\n",
    "\n",
    "We looked at people who have created more than 3 projects, and see whether the success rate of thier first 3 projects (priors) correlates to that of the rest of the projects (subsequents). The data showed that the correlation coefficient between the prior and subsequent succcess rate was 0.652, which could be interpreted as highly correlated. Also, the average subsequent success rate for people with high prior success rates (> 60%) was over 80%, while that for those with low prior success rate (< 30%) was less than 20%, which again proved the importance of reputation on Kickstarter. Therefore, the data we collected also supported the hypothesis of reputation."
   ]
  },
  {
   "cell_type": "code",
   "execution_count": 639,
   "metadata": {
    "collapsed": true
   },
   "outputs": [],
   "source": [
    "df = pd.read_csv('data/Kickstarter_all.csv', encoding='utf-8', index_col=0)\n",
    "df.drop_duplicates(subset=['project_url'], inplace=True)\n",
    "df.sort_values(by='created_at', inplace=True)"
   ]
  },
  {
   "cell_type": "code",
   "execution_count": 640,
   "metadata": {
    "collapsed": false
   },
   "outputs": [
    {
     "data": {
      "text/html": [
       "<div>\n",
       "<table border=\"1\" class=\"dataframe\">\n",
       "  <thead>\n",
       "    <tr style=\"text-align: right;\">\n",
       "      <th></th>\n",
       "      <th>created_at</th>\n",
       "      <th>creator_id</th>\n",
       "    </tr>\n",
       "  </thead>\n",
       "  <tbody>\n",
       "    <tr>\n",
       "      <th>2021</th>\n",
       "      <td>1240335335</td>\n",
       "      <td>williambrittelle</td>\n",
       "    </tr>\n",
       "    <tr>\n",
       "      <th>276</th>\n",
       "      <td>1240366270</td>\n",
       "      <td>Samplefreq</td>\n",
       "    </tr>\n",
       "    <tr>\n",
       "      <th>3767</th>\n",
       "      <td>1240514851</td>\n",
       "      <td>1309681027</td>\n",
       "    </tr>\n",
       "    <tr>\n",
       "      <th>1426</th>\n",
       "      <td>1240600507</td>\n",
       "      <td>darkpony</td>\n",
       "    </tr>\n",
       "    <tr>\n",
       "      <th>1689</th>\n",
       "      <td>1240637870</td>\n",
       "      <td>dphiffer</td>\n",
       "    </tr>\n",
       "  </tbody>\n",
       "</table>\n",
       "</div>"
      ],
      "text/plain": [
       "      created_at        creator_id\n",
       "2021  1240335335  williambrittelle\n",
       "276   1240366270        Samplefreq\n",
       "3767  1240514851        1309681027\n",
       "1426  1240600507          darkpony\n",
       "1689  1240637870          dphiffer"
      ]
     },
     "execution_count": 640,
     "metadata": {},
     "output_type": "execute_result"
    }
   ],
   "source": [
    "df.get(['created_at', 'creator_id']).head()"
   ]
  },
  {
   "cell_type": "markdown",
   "metadata": {},
   "source": [
    "Group the data by creator's id, and take those who have created more than 3 projects into consideration."
   ]
  },
  {
   "cell_type": "code",
   "execution_count": 641,
   "metadata": {
    "collapsed": false
   },
   "outputs": [],
   "source": [
    "gb_id = df.groupby('creator_id') \\\n",
    "    .filter(lambda g: len(g) > 3) \\\n",
    "    .groupby('creator_id')"
   ]
  },
  {
   "cell_type": "code",
   "execution_count": 642,
   "metadata": {
    "collapsed": false
   },
   "outputs": [
    {
     "name": "stdout",
     "output_type": "stream",
     "text": [
      "1033 project creators.\n"
     ]
    }
   ],
   "source": [
    "print(str(len(gb_id)) + \" project creators.\")"
   ]
  },
  {
   "cell_type": "code",
   "execution_count": 643,
   "metadata": {
    "collapsed": true
   },
   "outputs": [],
   "source": [
    "def success_rate(states):\n",
    "    states = Counter(states)\n",
    "    return float(states['successful']) / sum(states.values())"
   ]
  },
  {
   "cell_type": "code",
   "execution_count": 656,
   "metadata": {
    "collapsed": false
   },
   "outputs": [],
   "source": [
    "df_stats = pd.DataFrame()\n",
    "df_stats['prior'] = gb_id.apply(lambda g: success_rate(g.state.values[:3]))\n",
    "df_stats['subsequent'] = gb_id.apply(lambda g: success_rate(g.state.values[3:]))\n",
    "\n",
    "df_stats['prior_level'] = df_stats.prior.apply(lambda p: 'Low' if p < 0.3 else 'Medium' if p < 0.6 else 'High')"
   ]
  },
  {
   "cell_type": "code",
   "execution_count": 657,
   "metadata": {
    "collapsed": false
   },
   "outputs": [
    {
     "name": "stdout",
     "output_type": "stream",
     "text": [
      "Correlation coefficient r = 0.652\n"
     ]
    }
   ],
   "source": [
    "corrcoef = np.corrcoef(df_stats.prior, df_stats.subsequent)[0, 1]\n",
    "print(\"Correlation coefficient r = %.3f\" % (corrcoef))"
   ]
  },
  {
   "cell_type": "code",
   "execution_count": 658,
   "metadata": {
    "collapsed": false
   },
   "outputs": [
    {
     "name": "stdout",
     "output_type": "stream",
     "text": [
      "723\n",
      "124\n",
      "186\n"
     ]
    }
   ],
   "source": [
    "gb_level = df_stats.groupby('prior_level')\n",
    "print len(gb_level.get_group('High'))\n",
    "print len(gb_level.get_group('Medium'))\n",
    "print len(gb_level.get_group('Low'))"
   ]
  },
  {
   "cell_type": "code",
   "execution_count": 659,
   "metadata": {
    "collapsed": false
   },
   "outputs": [
    {
     "data": {
      "text/plain": [
       "<matplotlib.figure.Figure at 0x3069d00d0>"
      ]
     },
     "metadata": {},
     "output_type": "display_data"
    },
    {
     "data": {
      "image/png": "[encoded data removed]",
      "text/plain": [
       "<matplotlib.figure.Figure at 0x3060ad910>"
      ]
     },
     "metadata": {},
     "output_type": "display_data"
    }
   ],
   "source": [
    "gb_level = df_stats.groupby('prior_level')\n",
    "df_plot = gb_level.subsequent.mean().reset_index(name='Success Rate')\n",
    "\n",
    "levels = ['Low', 'Medium', 'High']\n",
    "mapping = {level: i for i, level in enumerate(levels)}\n",
    "key = df_plot['prior_level'].map(mapping)    \n",
    "df_plot = df_plot.iloc[key.argsort()]\n",
    "\n",
    "def percentage(x, pos):\n",
    "    return '%d' % (x * 100)\n",
    "\n",
    "plt.figure()\n",
    "ax = df_plot.plot.bar(x='prior_level', y='Success Rate', figsize=(5, 5))\n",
    "ax.set_ylabel('Average Success Rate of The Subsequent Projects (%)')\n",
    "ax.set_xlabel('Levels of Success Rate of The First 3 Projects')\n",
    "ax.set_ylim(bottom=0.0, top=1.0)\n",
    "ax.yaxis.set_major_formatter(FuncFormatter(percentage))\n",
    "plt.show()"
   ]
  },
  {
   "cell_type": "markdown",
   "metadata": {},
   "source": [
    "## H3: Reciprocity\n",
    "** People who have already been backed are more likely to back other projects. ** \n",
    "\n",
    "Reciprocity refers to the social norm where after receiving a favor, people tend to pay it back in some way [4]. In the crowdfunding context, this could be interpreted as how creators' backing behavior changes in response to the help they received from other backers for their own projects.\n",
    "\n",
    "We grouped project creators by the state of their first projects, which gave us 4 groups: (successful, failed, suspended, and canceled). Then, we compare the number of projects they backed after the first project was created **[*]**. Averagely, people in the successful group backed more than 2.5 projects while those in the failed group only backed less than 0.5 projects after the first project. The difference between the successful group and failed group was statistically significant (p < .01). The finding was consistent with the reciprocity theory, which supported the hypothesis.\n",
    "\n",
    "**[*]** There might be some bias here since we didn't know when they backed the project exactly, but since projects are only live for a certain period of time, the data is still valid to some extent. "
   ]
  },
  {
   "cell_type": "code",
   "execution_count": 475,
   "metadata": {
    "collapsed": false
   },
   "outputs": [],
   "source": [
    "df = pd.read_csv('data/Kickstarter_Tech.csv', encoding='utf-8', index_col=0)\n",
    "tech_creators = df.creator_id.unique()"
   ]
  },
  {
   "cell_type": "code",
   "execution_count": 522,
   "metadata": {
    "collapsed": false
   },
   "outputs": [
    {
     "data": {
      "text/html": [
       "<div>\n",
       "<table border=\"1\" class=\"dataframe\">\n",
       "  <thead>\n",
       "    <tr style=\"text-align: right;\">\n",
       "      <th></th>\n",
       "      <th>creator_id</th>\n",
       "      <th>backed_timestamps</th>\n",
       "    </tr>\n",
       "  </thead>\n",
       "  <tbody>\n",
       "    <tr>\n",
       "      <th>3696</th>\n",
       "      <td>1056965878</td>\n",
       "      <td>[1462827709.0, 1461145023.0, 1452657882, 14509...</td>\n",
       "    </tr>\n",
       "    <tr>\n",
       "      <th>11488</th>\n",
       "      <td>1984955468</td>\n",
       "      <td>[1462814718.0, 1445888755.0, 1446334099.0, 144...</td>\n",
       "    </tr>\n",
       "    <tr>\n",
       "      <th>9464</th>\n",
       "      <td>420233999</td>\n",
       "      <td>[1462800001.0, 1461693164.0, 1460009406, 14573...</td>\n",
       "    </tr>\n",
       "    <tr>\n",
       "      <th>10613</th>\n",
       "      <td>1759750922</td>\n",
       "      <td>[1462768318.0, 1447318380]</td>\n",
       "    </tr>\n",
       "    <tr>\n",
       "      <th>6297</th>\n",
       "      <td>2040856244</td>\n",
       "      <td>[1462548024.0, 1331209343.0]</td>\n",
       "    </tr>\n",
       "  </tbody>\n",
       "</table>\n",
       "</div>"
      ],
      "text/plain": [
       "       creator_id                                  backed_timestamps\n",
       "3696   1056965878  [1462827709.0, 1461145023.0, 1452657882, 14509...\n",
       "11488  1984955468  [1462814718.0, 1445888755.0, 1446334099.0, 144...\n",
       "9464    420233999  [1462800001.0, 1461693164.0, 1460009406, 14573...\n",
       "10613  1759750922                         [1462768318.0, 1447318380]\n",
       "6297   2040856244                       [1462548024.0, 1331209343.0]"
      ]
     },
     "execution_count": 522,
     "metadata": {},
     "output_type": "execute_result"
    }
   ],
   "source": [
    "df_reciprocity = df.get(['creator_id', 'backed_timestamps']).drop_duplicates()\n",
    "df_reciprocity.backed_timestamps = df_reciprocity.backed_timestamps.apply(json.loads)\n",
    "df_reciprocity.sort_values(by='backed_timestamps', ascending=False).head() # For visualization"
   ]
  },
  {
   "cell_type": "code",
   "execution_count": 480,
   "metadata": {
    "collapsed": true
   },
   "outputs": [],
   "source": [
    "df_all = pd.read_csv('data/Kickstarter_all.csv', encoding='utf-8', index_col=0)\n",
    "df_all['creator_id'] = df_all.creator.apply(lambda x: json.loads(x)['id'])\n",
    "df_all.sort_values(by='created_at', inplace=True)\n",
    "all_gb_id = df_all.groupby('creator_id')"
   ]
  },
  {
   "cell_type": "code",
   "execution_count": 478,
   "metadata": {
    "collapsed": false
   },
   "outputs": [
    {
     "name": "stdout",
     "output_type": "stream",
     "text": [
      "10846 unique creators in Tech dataset.\n"
     ]
    }
   ],
   "source": [
    "print(\"%d unique creators in Tech dataset.\" % (len(tech_creators)))"
   ]
  },
  {
   "cell_type": "code",
   "execution_count": 526,
   "metadata": {
    "collapsed": true
   },
   "outputs": [],
   "source": [
    "def get_first_state(row):\n",
    "    cid = row.creator_id\n",
    "    first_state = all_gb_id.get_group(cid).state.values[0]\n",
    "    return first_state\n",
    "\n",
    "def get_backed_count_after_first(row):\n",
    "    cid = row.creator_id\n",
    "    backed_timestamps = row.backed_timestamps\n",
    "    first_created_at = all_gb_id.get_group(cid).created_at.values[0]\n",
    "    return len(filter(lambda x: x > first_created_at, backed_timestamps))"
   ]
  },
  {
   "cell_type": "code",
   "execution_count": 527,
   "metadata": {
    "collapsed": false
   },
   "outputs": [],
   "source": [
    "df_reciprocity['backed_count_after_first'] = df_reciprocity.apply(get_backed_count_after_first, axis=1)\n",
    "df_reciprocity['first_state'] = df_reciprocity.apply(get_first_state, axis=1)"
   ]
  },
  {
   "cell_type": "code",
   "execution_count": 529,
   "metadata": {
    "collapsed": false
   },
   "outputs": [
    {
     "data": {
      "text/html": [
       "<div>\n",
       "<table border=\"1\" class=\"dataframe\">\n",
       "  <thead>\n",
       "    <tr style=\"text-align: right;\">\n",
       "      <th></th>\n",
       "      <th>creator_id</th>\n",
       "      <th>backed_timestamps</th>\n",
       "      <th>backed_count_after_first</th>\n",
       "      <th>first_state</th>\n",
       "    </tr>\n",
       "  </thead>\n",
       "  <tbody>\n",
       "    <tr>\n",
       "      <th>3696</th>\n",
       "      <td>1056965878</td>\n",
       "      <td>[1462827709.0, 1461145023.0, 1452657882, 14509...</td>\n",
       "      <td>10</td>\n",
       "      <td>failed</td>\n",
       "    </tr>\n",
       "    <tr>\n",
       "      <th>11488</th>\n",
       "      <td>1984955468</td>\n",
       "      <td>[1462814718.0, 1445888755.0, 1446334099.0, 144...</td>\n",
       "      <td>8</td>\n",
       "      <td>successful</td>\n",
       "    </tr>\n",
       "    <tr>\n",
       "      <th>9464</th>\n",
       "      <td>420233999</td>\n",
       "      <td>[1462800001.0, 1461693164.0, 1460009406, 14573...</td>\n",
       "      <td>6</td>\n",
       "      <td>successful</td>\n",
       "    </tr>\n",
       "    <tr>\n",
       "      <th>10613</th>\n",
       "      <td>1759750922</td>\n",
       "      <td>[1462768318.0, 1447318380]</td>\n",
       "      <td>2</td>\n",
       "      <td>successful</td>\n",
       "    </tr>\n",
       "    <tr>\n",
       "      <th>6297</th>\n",
       "      <td>2040856244</td>\n",
       "      <td>[1462548024.0, 1331209343.0]</td>\n",
       "      <td>1</td>\n",
       "      <td>failed</td>\n",
       "    </tr>\n",
       "  </tbody>\n",
       "</table>\n",
       "</div>"
      ],
      "text/plain": [
       "       creator_id                                  backed_timestamps  \\\n",
       "3696   1056965878  [1462827709.0, 1461145023.0, 1452657882, 14509...   \n",
       "11488  1984955468  [1462814718.0, 1445888755.0, 1446334099.0, 144...   \n",
       "9464    420233999  [1462800001.0, 1461693164.0, 1460009406, 14573...   \n",
       "10613  1759750922                         [1462768318.0, 1447318380]   \n",
       "6297   2040856244                       [1462548024.0, 1331209343.0]   \n",
       "\n",
       "       backed_count_after_first first_state  \n",
       "3696                         10      failed  \n",
       "11488                         8  successful  \n",
       "9464                          6  successful  \n",
       "10613                         2  successful  \n",
       "6297                          1      failed  "
      ]
     },
     "execution_count": 529,
     "metadata": {},
     "output_type": "execute_result"
    }
   ],
   "source": [
    "df_reciprocity.sort_values(by='backed_timestamps', ascending=False).head()"
   ]
  },
  {
   "cell_type": "code",
   "execution_count": 584,
   "metadata": {
    "collapsed": false
   },
   "outputs": [],
   "source": [
    "reciprocity_gb_state = df_reciprocity.groupby('first_state')"
   ]
  },
  {
   "cell_type": "code",
   "execution_count": 633,
   "metadata": {
    "collapsed": false
   },
   "outputs": [
    {
     "data": {
      "text/plain": [
       "<matplotlib.figure.Figure at 0x2f9a59bd0>"
      ]
     },
     "metadata": {},
     "output_type": "display_data"
    },
    {
     "data": {
      "image/png": "[encoded data removed]",
      "text/plain": [
       "<matplotlib.figure.Figure at 0x2f99ba490>"
      ]
     },
     "metadata": {},
     "output_type": "display_data"
    }
   ],
   "source": [
    "df_plot = reciprocity_gb_state.backed_count_after_first.mean().reset_index(name='Backed Count')\n",
    "\n",
    "states = ['suspended', 'failed', 'canceled', 'successful']\n",
    "mapping = {state: i for i, state in enumerate(states)}\n",
    "key = df_plot['first_state'].map(mapping)    \n",
    "df_plot = df_plot.iloc[key.argsort()]\n",
    "\n",
    "plt.figure()\n",
    "ax = df_plot.plot.bar(x='first_state', y='Backed Count', figsize=(5, 5))\n",
    "ax.set_ylabel('# of projects backed after first project')\n",
    "ax.set_xlabel('State of first project')\n",
    "plt.show()"
   ]
  },
  {
   "cell_type": "code",
   "execution_count": 583,
   "metadata": {
    "collapsed": false
   },
   "outputs": [
    {
     "name": "stdout",
     "output_type": "stream",
     "text": [
      "p-value of T-test: 4.48374036884e-78  < .01\n"
     ]
    }
   ],
   "source": [
    "successful = reciprocity_gb_state.get_group('successful').backed_count_after_first.values\n",
    "failed = reciprocity_gb_state.get_group('failed').backed_count_after_first.values\n",
    "\n",
    "t, p = stats.ttest_ind(successful, failed, equal_var=False)\n",
    "print 'p-value of T-test:', p, ' < .01'"
   ]
  },
  {
   "cell_type": "markdown",
   "metadata": {},
   "source": [
    "## H4: Similarity\n",
    "\n",
    "Past research in social psychology has shown that people are more willing to help those who are similar to themselves [3]. Based on the similarity theory, we developed 2 related hypotheses (H4.1 and H4.2) to see if it could also be applied to the online crowdfunding context by measuring interest-based similarity ($S_I$) and location-based similarity ($S_L$), respectively."
   ]
  },
  {
   "cell_type": "markdown",
   "metadata": {},
   "source": [
    "## H4.1: Similarity (Interest-Based)\n",
    "** Creators are more likely to back projects in the same category as the projects they’ve created. **\n",
    "\n",
    "It's resonable to assume that people back projects based on their own interests. Another assumption we made was that a creator's interest could be represented by the projects he or she launched. For example, Tony has created 3 software projects and 2 boardgame projects, so we assume that he is interested in Technology and Game.\n",
    "\n",
    "We define in interest-based similarity $S_I$ for each project creator, a measure with range [0, 1.0] that represents the fraction of projects a creator backed within the categories he/she has created among all the backed projects.\n",
    "\n",
    "For each project creator in the Tech dataset, we computed $S_I$ for both super-categories (Art, Desgin, Technology, etc.) and sub-categories (Public Art, Dance, Software, etc.), and we found that the average similarity of super-categoris was around 0.5, while that of sub-categories was less than 0.2. In other words, about half of the projects these creators backed fall into the categories they've created, but less than 20% of them matched the specific sub-categories (this might be due to the fact that sub-categories are too fragmented). Another interesting finding was that people who backed more projects tend to have higher $S_I$ values for super-categories, which means they are more willing to back projects similar to their interests.\n",
    "\n",
    "In conclustion, the data only supported (not strongly) the interest-based similarity hypothis for super-categoris but not for sub-categories."
   ]
  },
  {
   "cell_type": "code",
   "execution_count": 320,
   "metadata": {
    "collapsed": true
   },
   "outputs": [],
   "source": [
    "df = pd.read_csv('data/Kickstarter_Tech.csv', encoding='utf-8', index_col=0)\n",
    "gb_id = df.groupby('creator_id')\n",
    "all_ids = df.creator_id.unique()"
   ]
  },
  {
   "cell_type": "code",
   "execution_count": 323,
   "metadata": {
    "collapsed": false
   },
   "outputs": [],
   "source": [
    "df_created_cats = pd.read_csv('data/created_cats.csv', encoding='utf-8', index_col=0)\n",
    "created_cats_gb_id = df_created_cats.groupby('creator_id')\n",
    "created_cats_counters = \\\n",
    "    dict(map(lambda i: (i, Counter(created_cats_gb_id.get_group(i).super_category)), all_ids))\n",
    "backed_cats_counters = \\\n",
    "    dict(map(lambda i: (i, gb_id.get_group(i).backed_super_categories.values[0]), all_ids))"
   ]
  },
  {
   "cell_type": "code",
   "execution_count": 400,
   "metadata": {
    "collapsed": false
   },
   "outputs": [],
   "source": [
    "df_tech_creators = pd.DataFrame()\n",
    "df_tech_creators['creator_id'] = pd.Series(df.creator_id.unique())"
   ]
  },
  {
   "cell_type": "code",
   "execution_count": 401,
   "metadata": {
    "collapsed": false
   },
   "outputs": [],
   "source": [
    "df_tech_creators['backed'] = df_tech_creators.creator_id \\\n",
    "    .map(lambda id_: gb_id.get_group(id_).backed.values[0])\n",
    "df_tech_creators['created'] = df_tech_creators.creator_id \\\n",
    "    .map(lambda id_: gb_id.get_group(id_).created.values[0])\n",
    "df_tech_creators['created_super_categories'] = df_tech_creators.creator_id \\\n",
    "    .map(lambda id_: Counter(created_cats_gb_id.get_group(id_).super_category))\n",
    "df_tech_creators['created_specific_categories'] = df_tech_creators.creator_id \\\n",
    "    .map(lambda id_: Counter(created_cats_gb_id.get_group(id_).specific_cateogry))\n",
    "df_tech_creators['backed_super_categories'] = df_tech_creators.creator_id \\\n",
    "    .map(lambda id_: gb_id.get_group(id_).backed_super_categories.values[0])\n",
    "df_tech_creators['backed_specific_categories'] = df_tech_creators.creator_id \\\n",
    "    .map(lambda id_: gb_id.get_group(id_).backed_specific_categories.values[0])"
   ]
  },
  {
   "cell_type": "code",
   "execution_count": 386,
   "metadata": {
    "collapsed": false
   },
   "outputs": [
    {
     "data": {
      "text/html": [
       "<div>\n",
       "<table border=\"1\" class=\"dataframe\">\n",
       "  <thead>\n",
       "    <tr style=\"text-align: right;\">\n",
       "      <th></th>\n",
       "      <th>creator_id</th>\n",
       "      <th>backed</th>\n",
       "      <th>created</th>\n",
       "      <th>created_super_categories</th>\n",
       "      <th>created_specific_categories</th>\n",
       "      <th>backed_super_categories</th>\n",
       "      <th>backed_specific_categories</th>\n",
       "    </tr>\n",
       "  </thead>\n",
       "  <tbody>\n",
       "    <tr>\n",
       "      <th>0</th>\n",
       "      <td>dstechlabs</td>\n",
       "      <td>0</td>\n",
       "      <td>2</td>\n",
       "      <td>{u'technology': 2}</td>\n",
       "      <td>{u'apps': 1, u'makerspaces': 1}</td>\n",
       "      <td>{u'art': 1}</td>\n",
       "      <td>{u'illustration': 1}</td>\n",
       "    </tr>\n",
       "    <tr>\n",
       "      <th>1</th>\n",
       "      <td>1336310480</td>\n",
       "      <td>0</td>\n",
       "      <td>1</td>\n",
       "      <td>{u'technology': 1}</td>\n",
       "      <td>{u'apps': 1}</td>\n",
       "      <td>{}</td>\n",
       "      <td>{}</td>\n",
       "    </tr>\n",
       "    <tr>\n",
       "      <th>2</th>\n",
       "      <td>1890506943</td>\n",
       "      <td>0</td>\n",
       "      <td>1</td>\n",
       "      <td>{u'technology': 1}</td>\n",
       "      <td>{u'apps': 1}</td>\n",
       "      <td>{}</td>\n",
       "      <td>{}</td>\n",
       "    </tr>\n",
       "    <tr>\n",
       "      <th>3</th>\n",
       "      <td>1750943208</td>\n",
       "      <td>0</td>\n",
       "      <td>1</td>\n",
       "      <td>{u'technology': 1}</td>\n",
       "      <td>{u'apps': 1}</td>\n",
       "      <td>{}</td>\n",
       "      <td>{}</td>\n",
       "    </tr>\n",
       "    <tr>\n",
       "      <th>4</th>\n",
       "      <td>puppy1</td>\n",
       "      <td>0</td>\n",
       "      <td>2</td>\n",
       "      <td>{u'fashion': 1, u'technology': 1}</td>\n",
       "      <td>{u'pet fashion': 1, u'apps': 1}</td>\n",
       "      <td>{}</td>\n",
       "      <td>{}</td>\n",
       "    </tr>\n",
       "  </tbody>\n",
       "</table>\n",
       "</div>"
      ],
      "text/plain": [
       "   creator_id  backed  created           created_super_categories  \\\n",
       "0  dstechlabs       0        2                 {u'technology': 2}   \n",
       "1  1336310480       0        1                 {u'technology': 1}   \n",
       "2  1890506943       0        1                 {u'technology': 1}   \n",
       "3  1750943208       0        1                 {u'technology': 1}   \n",
       "4      puppy1       0        2  {u'fashion': 1, u'technology': 1}   \n",
       "\n",
       "       created_specific_categories backed_super_categories  \\\n",
       "0  {u'apps': 1, u'makerspaces': 1}             {u'art': 1}   \n",
       "1                     {u'apps': 1}                      {}   \n",
       "2                     {u'apps': 1}                      {}   \n",
       "3                     {u'apps': 1}                      {}   \n",
       "4  {u'pet fashion': 1, u'apps': 1}                      {}   \n",
       "\n",
       "  backed_specific_categories  \n",
       "0       {u'illustration': 1}  \n",
       "1                         {}  \n",
       "2                         {}  \n",
       "3                         {}  \n",
       "4                         {}  "
      ]
     },
     "execution_count": 386,
     "metadata": {},
     "output_type": "execute_result"
    }
   ],
   "source": [
    "df_tech_creators.head()"
   ]
  },
  {
   "cell_type": "code",
   "execution_count": 415,
   "metadata": {
    "collapsed": true
   },
   "outputs": [],
   "source": [
    "def interest_similarity(backed, created):\n",
    "    if not isinstance(backed, Counter) and not isinstance(created, Counter):\n",
    "        raise TypeError \n",
    "    result = sum(map(lambda k: backed[k], created.keys()))\n",
    "    try:\n",
    "        return float(result) / sum(backed.values())\n",
    "    except ZeroDivisionError:\n",
    "        return np.nan"
   ]
  },
  {
   "cell_type": "code",
   "execution_count": null,
   "metadata": {
    "collapsed": false
   },
   "outputs": [],
   "source": [
    "df_tech_creators['super_similarity'] = df_tech_creators \\\n",
    "    .apply(lambda x: interest_similarity(x.backed_super_categories, x.created_super_categories), axis=1)\n",
    "    \n",
    "df_tech_creators['specific_similarity'] = df_tech_creators \\\n",
    "    .apply(lambda x: interest_similarity(x.backed_specific_categories, x.created_specific_categories), axis=1)"
   ]
  },
  {
   "cell_type": "markdown",
   "metadata": {},
   "source": [
    "**Compute interest-based similarities**\n",
    "\n",
    "$S_I = \\frac{\\#\\ of\\ backed\\ in\\ created||}{\\#\\ of\\ backed}$"
   ]
  },
  {
   "cell_type": "code",
   "execution_count": 438,
   "metadata": {
    "collapsed": true
   },
   "outputs": [],
   "source": [
    "def mean_super_similarity(min_backed):\n",
    "    if min_backed < 1:\n",
    "        raise ValueError\n",
    "    indices = (pd.notnull(df_tech_creators.super_similarity)) & (df_tech_creators.backed > min_backed)\n",
    "    return df_tech_creators.super_similarity[indices].mean()\n",
    "\n",
    "df_plot = pd.DataFrame({'min_backed': range(1, 701, 5),\n",
    "             'mean_super_similarity': [mean_super_similarity(n) for n in range(1, 701, 5)]})"
   ]
  },
  {
   "cell_type": "code",
   "execution_count": 471,
   "metadata": {
    "collapsed": false
   },
   "outputs": [
    {
     "data": {
      "text/plain": [
       "<matplotlib.figure.Figure at 0x1a703a110>"
      ]
     },
     "metadata": {},
     "output_type": "display_data"
    },
    {
     "data": {
      "image/png": "[encoded data removed]",
      "text/plain": [
       "<matplotlib.figure.Figure at 0x123143050>"
      ]
     },
     "metadata": {},
     "output_type": "display_data"
    }
   ],
   "source": [
    "def percentage(x, pos):\n",
    "    'The two args are the value and tick position'\n",
    "    return '%d' % (x * 100)\n",
    "\n",
    "def x_formatter(x, pos):\n",
    "    if (x - 1) % 10 != 0:\n",
    "        return \"\"\n",
    "    return str((x - 1) * 5 + 1)\n",
    "\n",
    "plt.figure()\n",
    "ax = df_plot.plot.bar(x='min_backed', y='mean_super_similarity', figsize=(10, 5))\n",
    "ax.set_ylabel('Interst similarity between created projects and backed projects (%)')\n",
    "ax.set_xlabel('Minimum # of Projects Backed')\n",
    "ax.set_ylim(bottom=0.0, top=1.0)\n",
    "ax.yaxis.set_major_formatter(FuncFormatter(percentage))\n",
    "ax.xaxis.set_major_formatter(FuncFormatter(x_formatter))"
   ]
  },
  {
   "cell_type": "code",
   "execution_count": null,
   "metadata": {
    "collapsed": false
   },
   "outputs": [],
   "source": [
    "def mean_specific_similarity(min_backed):\n",
    "    if min_backed < 1:\n",
    "        raise ValueError\n",
    "    indices = (pd.notnull(df_tech_creators.specific_similarity)) & (df_tech_creators.backed > min_backed)\n",
    "    return df_tech_creators.specific_similarity[indices].mean()\n",
    "\n",
    "df_plot_specific = pd.DataFrame({'min_backed': range(1, 701, 5),\n",
    "             'mean_super_similarity': [mean_specific_similarity(n) for n in range(1, 701, 5)]})"
   ]
  },
  {
   "cell_type": "code",
   "execution_count": 473,
   "metadata": {
    "collapsed": false
   },
   "outputs": [
    {
     "data": {
      "text/plain": [
       "<matplotlib.figure.Figure at 0x118150410>"
      ]
     },
     "metadata": {},
     "output_type": "display_data"
    },
    {
     "data": {
      "image/png": "[encoded data removed]",
      "text/plain": [
       "<matplotlib.figure.Figure at 0x1a60ac710>"
      ]
     },
     "metadata": {},
     "output_type": "display_data"
    }
   ],
   "source": [
    "def percentage(x, pos):\n",
    "    'The two args are the value and tick position'\n",
    "    return '%d' % (x * 100)\n",
    "\n",
    "def x_formatter(x, pos):\n",
    "    if (x - 1) % 10 != 0:\n",
    "        return \"\"\n",
    "    return str((x - 1) * 5 + 1)\n",
    "\n",
    "plt.figure()\n",
    "ax = df_plot_specific.plot.bar(x='min_backed', y='mean_specific_similarity', figsize=(10, 5))\n",
    "ax.set_ylabel('Interst similarity between created projects and backed projects (%)')\n",
    "ax.set_xlabel('Minimum # of Projects Backed')\n",
    "ax.set_ylim(bottom=0.0, top=1.0)\n",
    "ax.yaxis.set_major_formatter(FuncFormatter(percentage))\n",
    "ax.xaxis.set_major_formatter(FuncFormatter(x_formatter))"
   ]
  },
  {
   "cell_type": "markdown",
   "metadata": {},
   "source": [
    "## H4.2: Similarity (Location-Based)\n",
    "** People are more willing to back creators from the same country they are from. **\n",
    "\n",
    "We thought that location might also be important in backers' decision making process. According to the similarity theory, projects would get most help from the creator's country. For example, if there are 2 similar projects A and B. The creator of A is from Canada, while that of B is from Australia. Based on this hypothesis, there will be more Canadian backers for project A, and more Australian backers for project B.\n",
    "\n",
    "We define in location-based similarity $S_L$ for each project, a measure with range [0, 1.0] that represents the fraction of projects backers from the same country as the project creator among all the backers.\n",
    "\n",
    "The result showed that more than 60% of the backers were from the same country as the project creators among all projects in the Tech dataset, which we considered as a support of H4.2. However, marketing might be a confounding factor in this hypothesis, since it's very common that the target audience of a project and the creator are from the same place."
   ]
  },
  {
   "cell_type": "code",
   "execution_count": 163,
   "metadata": {
    "collapsed": true
   },
   "outputs": [],
   "source": [
    "df = pd.read_csv('data/Kickstarter_Tech.csv', encoding='utf-8', index_col=0)"
   ]
  },
  {
   "cell_type": "code",
   "execution_count": 164,
   "metadata": {
    "collapsed": false
   },
   "outputs": [
    {
     "data": {
      "text/html": [
       "<div>\n",
       "<table border=\"1\" class=\"dataframe\">\n",
       "  <thead>\n",
       "    <tr style=\"text-align: right;\">\n",
       "      <th></th>\n",
       "      <th>location</th>\n",
       "      <th>top_countries</th>\n",
       "    </tr>\n",
       "  </thead>\n",
       "  <tbody>\n",
       "    <tr>\n",
       "      <th>1928</th>\n",
       "      <td>{\"country\":\"US\",\"urls\":{\"web\":{\"discover\":\"htt...</td>\n",
       "      <td>[[\"AR\", 10], [\"US\", 10], [\"SG\", 1], [\"GB\", 1]]</td>\n",
       "    </tr>\n",
       "    <tr>\n",
       "      <th>9188</th>\n",
       "      <td>{\"country\":\"AT\",\"urls\":{\"web\":{\"discover\":\"htt...</td>\n",
       "      <td>[[\"AT\", 18], [\"US\", 4], [\"DE\", 1], [\"KR\", 1], ...</td>\n",
       "    </tr>\n",
       "    <tr>\n",
       "      <th>5484</th>\n",
       "      <td>{\"country\":\"AT\",\"urls\":{\"web\":{\"discover\":\"htt...</td>\n",
       "      <td>[[\"AT\", 25], [\"DE\", 1], [\"US\", 1]]</td>\n",
       "    </tr>\n",
       "    <tr>\n",
       "      <th>4989</th>\n",
       "      <td>{\"country\":\"AU\",\"urls\":{\"web\":{\"discover\":\"htt...</td>\n",
       "      <td>[[\"AU\", 102], [\"US\", 15], [\"GB\", 14], [\"SG\", 6...</td>\n",
       "    </tr>\n",
       "    <tr>\n",
       "      <th>6932</th>\n",
       "      <td>{\"country\":\"AU\",\"urls\":{\"web\":{\"discover\":\"htt...</td>\n",
       "      <td>[[\"AU\", 10], [\"US\", 1]]</td>\n",
       "    </tr>\n",
       "  </tbody>\n",
       "</table>\n",
       "</div>"
      ],
      "text/plain": [
       "                                               location  \\\n",
       "1928  {\"country\":\"US\",\"urls\":{\"web\":{\"discover\":\"htt...   \n",
       "9188  {\"country\":\"AT\",\"urls\":{\"web\":{\"discover\":\"htt...   \n",
       "5484  {\"country\":\"AT\",\"urls\":{\"web\":{\"discover\":\"htt...   \n",
       "4989  {\"country\":\"AU\",\"urls\":{\"web\":{\"discover\":\"htt...   \n",
       "6932  {\"country\":\"AU\",\"urls\":{\"web\":{\"discover\":\"htt...   \n",
       "\n",
       "                                          top_countries  \n",
       "1928     [[\"AR\", 10], [\"US\", 10], [\"SG\", 1], [\"GB\", 1]]  \n",
       "9188  [[\"AT\", 18], [\"US\", 4], [\"DE\", 1], [\"KR\", 1], ...  \n",
       "5484                 [[\"AT\", 25], [\"DE\", 1], [\"US\", 1]]  \n",
       "4989  [[\"AU\", 102], [\"US\", 15], [\"GB\", 14], [\"SG\", 6...  \n",
       "6932                            [[\"AU\", 10], [\"US\", 1]]  "
      ]
     },
     "execution_count": 164,
     "metadata": {},
     "output_type": "execute_result"
    }
   ],
   "source": [
    "df.sort_values(by='top_countries').get(['location', 'top_countries']).head() # For visualization"
   ]
  },
  {
   "cell_type": "code",
   "execution_count": 171,
   "metadata": {
    "collapsed": false
   },
   "outputs": [],
   "source": [
    "creator_country_series = df.location.apply(lambda x: json.loads(x)['country'])\n",
    "backer_countries_series = df.top_countries.apply(lambda x: Counter(dict(json.loads(x))))"
   ]
  },
  {
   "cell_type": "markdown",
   "metadata": {},
   "source": [
    "** Compute localtion-based similarities **\n",
    "\n",
    "$S_L = \\frac{\\#\\ of \\ Backers\\ from\\ The\\ Same\\ Country}{\\#\\ of\\ Total\\ Backers}$ "
   ]
  },
  {
   "cell_type": "code",
   "execution_count": 185,
   "metadata": {
    "collapsed": false
   },
   "outputs": [],
   "source": [
    "similarities = []\n",
    "for cc, bcs in zip(creator_country_series, backer_countries_series):\n",
    "    total = sum(bcs.values())\n",
    "    if cc in bcs:\n",
    "        similarities.append(bcs[cc] / float(total))\n",
    "    elif total > 0:\n",
    "        similarities.append(0.0)\n",
    "    else:\n",
    "        similarities.append(np.nan)\n",
    "similarities = np.array(similarities)"
   ]
  },
  {
   "cell_type": "code",
   "execution_count": 280,
   "metadata": {
    "collapsed": false
   },
   "outputs": [
    {
     "name": "stdout",
     "output_type": "stream",
     "text": [
      "9153 projects didn't have any backers at all.\n",
      "58 projects didn't have any backers from the same country.\n"
     ]
    }
   ],
   "source": [
    "nan_count = np.sum(np.isnan(similarities))\n",
    "print(\"%d projects didn't have any backers at all.\" % (nan_count))\n",
    "zero_count = np.sum(similarities == 0.0)\n",
    "print(\"%d projects didn't have any backers from the same country.\" % (zero_count))"
   ]
  },
  {
   "cell_type": "code",
   "execution_count": 279,
   "metadata": {
    "collapsed": false
   },
   "outputs": [
    {
     "name": "stdout",
     "output_type": "stream",
     "text": [
      "64.7% of backers are from the same country as the project creator.\n"
     ]
    }
   ],
   "source": [
    "mean_similarity = np.mean(similarities[np.logical_not(np.isnan(similarities))])\n",
    "print(\"%2.1f%% of backers are from the same country as the project creator.\" % (mean_similarity * 100))"
   ]
  },
  {
   "cell_type": "markdown",
   "metadata": {},
   "source": [
    "## H5: Effort"
   ]
  },
  {
   "cell_type": "code",
   "execution_count": null,
   "metadata": {
    "collapsed": true
   },
   "outputs": [],
   "source": []
  },
  {
   "cell_type": "markdown",
   "metadata": {},
   "source": [
    "## H6: Language"
   ]
  },
  {
   "cell_type": "code",
   "execution_count": null,
   "metadata": {
    "collapsed": true
   },
   "outputs": [],
   "source": []
  },
  {
   "cell_type": "markdown",
   "metadata": {},
   "source": [
    "## Conclusions\n"
   ]
  },
  {
   "cell_type": "markdown",
   "metadata": {},
   "source": [
    "## References\n",
    "1. Althoff, T., & Danescu-Niculescu-Mizil, C. (2014). How to ask for a favor: A case study on the success of altruistic requests. arXiv.org.\n",
    "2. Mitra, T., & Gilbert, E. (2014). The language that gets people to give: phrases that predict success on kickstarter (pp. 49–61). Presented at the CSCW '14: Proceedings of the 17th ACM conference on Computer supported cooperative work & social computing, ACM. http://doi.org/10.1145/2531602.2531656\n",
    "3. Ammons Scientific - Psychological Reports - 55(1):139 - PDF. (1984). Ammons Scientific - Psychological Reports - 55(1):139 - PDF. http://doi.org/10.2466/pr0.1984.55.1.139\n",
    "4. Persuasive technology: using computers to change what we think and do. (2002). Persuasive technology: using computers to change what we think and do."
   ]
  },
  {
   "cell_type": "code",
   "execution_count": null,
   "metadata": {
    "collapsed": true
   },
   "outputs": [],
   "source": []
  }
 ],
 "metadata": {
  "kernelspec": {
   "display_name": "Python 2",
   "language": "python",
   "name": "python2"
  },
  "language_info": {
   "codemirror_mode": {
    "name": "ipython",
    "version": 2
   },
   "file_extension": ".py",
   "mimetype": "text/x-python",
   "name": "python",
   "nbconvert_exporter": "python",
   "pygments_lexer": "ipython2",
   "version": "2.7.11"
  }
 },
 "nbformat": 4,
 "nbformat_minor": 0
}
