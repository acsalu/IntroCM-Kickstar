{
 "cells": [
  {
   "cell_type": "markdown",
   "metadata": {},
   "source": [
    "# Kickstarter: What Makes Projects Succeed/Fail?\n",
    "Inna Shteinbuk (ibs26) & Huai-Che Lu (hl938)"
   ]
  },
  {
   "cell_type": "markdown",
   "metadata": {},
   "source": [
    "## Introduction\n",
    "Crowdfunding is the practice of raising venture from the general public. Sites like [Kickstarter](https://www.kickstarter.com/) and [Indiegogo](https://www.indiegogo.com/) provide internet-mediated services to support the process of requesting and offering monetary help. In this project, we looked into different textual and social factors to see how they relate to the success or failure of projects.\n",
    "\n",
    "On Kickstarter, creators launch projects where they can talk about the products and demonstrate the progress to attract backers' willingess to fund the projects. In return, creators give backers different rewards based on the sponsored amount. It's notable that the pledge rewards come with a delay after the backers provide the money, which is largest difference between crowdfunding sites and other e-commerce services.\n",
    "\n",
    "## Related Work\n",
    "Althoff et al. looked at [Random Acts of Pizza (RAOP)](http://randomactsofpizza.com/) to see the textual and social factors that influence the success of altruistic requests[1]. In RAOP, requesters ask for pizzas. Serveral factors like politeness, evidentiality, reciprocity, sentiment, and length; status, similarity were taken into consideration. \n",
    "\n",
    "Mitra et al. also discussed the language on Kickstarter [2].\n",
    "\n",
    "## Research Questions\n",
    "Differences between Kickstarter and RAOP:\n",
    "1. Mutual-beneficial vs. Altruistic\n",
    "2. Diversed content vs. Pizza\n",
    "\n",
    "We're interested in how the information shown on Kickstarter affect the creator-backer dynamic on the site.\n",
    "\n",
    "## Hypotheses\n",
    "\n",
    "- The whole dataset\n",
    "    - **H1 [Trust]: ** Project creators are asking more money overtime.\n",
    "    - **H2 [Reputation]: ** Project creators with good records are more likely to get help.\n",
    "- Tech dataset \n",
    "    - **H3 [Reciprocity]: ** People who have already been backed, are more likely to back other projects.\n",
    "    - **H4 [Similarity] **\n",
    "        - ** H4.1 (Interest-based): ** People are more likely to back projects in the same category as the projects they’ve created.\n",
    "        - ** H4.2 (Location-based): ** People are more willing to back creators from the same country.\n",
    "    - **H6: Effort**\n",
    "    - **H7: Language**"
   ]
  },
  {
   "cell_type": "markdown",
   "metadata": {},
   "source": [
    "## Data\n",
    "### Original Data\n",
    "\n",
    "### Scraped Data\n",
    "In additional to the original data, we wrote our own scrapers to get more information on a subset of the original dataset. The following information was collected:\n",
    "- Numerical\n",
    "    1. Projects that creators backed\n",
    "- Textual\n",
    "    1. Full project description\n",
    "    2. Risks and challenges"
   ]
  },
  {
   "cell_type": "code",
   "execution_count": null,
   "metadata": {
    "collapsed": true
   },
   "outputs": [],
   "source": []
  },
  {
   "cell_type": "markdown",
   "metadata": {},
   "source": [
    "## H1: Trust\n",
    "Project creators are willing to ask for more money overtime."
   ]
  },
  {
   "cell_type": "code",
   "execution_count": 269,
   "metadata": {
    "collapsed": false
   },
   "outputs": [],
   "source": [
    "import time\n",
    "import json\n",
    "from collections import Counter\n",
    "from datetime import datetime\n",
    "\n",
    "%matplotlib inline\n",
    "import pandas as pd\n",
    "import numpy as np\n",
    "import matplotlib.pyplot as plt\n",
    "from matplotlib.ticker import FuncFormatter\n",
    "plt.style.use('ggplot')"
   ]
  },
  {
   "cell_type": "code",
   "execution_count": 137,
   "metadata": {
    "collapsed": false
   },
   "outputs": [],
   "source": [
    "df = pd.read_csv('data/Kickstarter_all.csv', encoding='utf-8', index_col=0)\n",
    "df.drop_duplicates(inplace=True)\n",
    "df = df[(df.state == 'successful') | (df.state == 'failed')]\n",
    "df.sort_values(by='created_at', inplace=True)"
   ]
  },
  {
   "cell_type": "code",
   "execution_count": 138,
   "metadata": {
    "collapsed": true
   },
   "outputs": [],
   "source": [
    "def timestamp2monthstr(t):\n",
    "    d = datetime.fromtimestamp(t)\n",
    "    return \"%d/%d\" % (d.month, d.year)\n",
    "def monthstr2timestamp(s):\n",
    "    first_day = '1/' + s\n",
    "    return time.mktime(datetime.strptime(first_day, '%d/%m/%Y').timetuple())\n",
    "\n",
    "df['created_month'] = df.created_at.apply(timestamp2monthstr)"
   ]
  },
  {
   "cell_type": "code",
   "execution_count": 130,
   "metadata": {
    "collapsed": false
   },
   "outputs": [],
   "source": [
    "def plot_trust(df, key):\n",
    "    gb = df.groupby(key)\n",
    "    mean_goals = gb.apply(lambda g: np.mean(g.goal))\n",
    "    \n",
    "    timestamps = [monthstr2timestamp(key) for key, g in gb]\n",
    "    mean_goals = [mg for mg in mean_goals]\n",
    "    \n",
    "    df_plot = pd.DataFrame()\n",
    "    df_plot['mean_goal'] = pd.Series(mean_goals)\n",
    "    df_plot['timestamp'] = pd.Series(timestamps)\n",
    "    df_plot.sort_values(by='timestamp', inplace=True)\n",
    "    \n",
    "    def millions(y, pos):\n",
    "        'The two args are the value and tick position'\n",
    "        return '$%dK' % (y * 1e-3)\n",
    "\n",
    "    def timestamp_formatter(t, pos):\n",
    "        return timestamp2monthstr(timestamps[pos]) if pos % 3 == 0 else \"\"\n",
    "\n",
    "    plt.figure()\n",
    "    ax = df_plot.plot.bar(x='timestamp', y='mean_goal', figsize=(16, 8))\n",
    "    ax.set_ylabel('Mean Goal (USD)')\n",
    "    ax.set_xlabel('Time')\n",
    "    ax.yaxis.set_major_formatter(FuncFormatter(millions))\n",
    "    ax.xaxis.set_major_formatter(FuncFormatter(timestamp_formatter))\n",
    "    plt.show()"
   ]
  },
  {
   "cell_type": "code",
   "execution_count": 131,
   "metadata": {
    "collapsed": false
   },
   "outputs": [
    {
     "data": {
      "text/plain": [
       "<matplotlib.figure.Figure at 0x120d53190>"
      ]
     },
     "metadata": {},
     "output_type": "display_data"
    },
    {
     "data": {
      "image/png": "[encoded data removed]",
      "text/plain": [
       "<matplotlib.figure.Figure at 0x167d094d0>"
      ]
     },
     "metadata": {},
     "output_type": "display_data"
    }
   ],
   "source": [
    "plot_trust(df, 'created_month')"
   ]
  },
  {
   "cell_type": "code",
   "execution_count": 128,
   "metadata": {
    "collapsed": false
   },
   "outputs": [
    {
     "data": {
      "text/plain": [
       "<matplotlib.figure.Figure at 0x115c10f10>"
      ]
     },
     "metadata": {},
     "output_type": "display_data"
    },
    {
     "data": {
      "image/png": "[encoded data removed]",
      "text/plain": [
       "<matplotlib.figure.Figure at 0x113faea50>"
      ]
     },
     "metadata": {},
     "output_type": "display_data"
    }
   ],
   "source": [
    "plot_trust(df[df.state == 'successful'], 'created_month')"
   ]
  },
  {
   "cell_type": "code",
   "execution_count": 129,
   "metadata": {
    "collapsed": false
   },
   "outputs": [
    {
     "data": {
      "text/plain": [
       "<matplotlib.figure.Figure at 0x12820a510>"
      ]
     },
     "metadata": {},
     "output_type": "display_data"
    },
    {
     "data": {
      "image/png": "[encoded data removed]",
      "text/plain": [
       "<matplotlib.figure.Figure at 0x12313b9d0>"
      ]
     },
     "metadata": {},
     "output_type": "display_data"
    }
   ],
   "source": [
    "plot_trust(df[df.state == 'failed'], 'created_month')"
   ]
  },
  {
   "cell_type": "markdown",
   "metadata": {},
   "source": [
    "## H2: Reputation\n",
    "** Project creators with good records are more likely to get help. **\n",
    "\n",
    "Due to the nature for crowdfunding, there's risks that the project won't be carried out. Therefore, \n",
    "We looked at people who have created more than 3 projects, and see whether the success rate of thier first 3 projects (priors) correlates to that of the rest of the projects (subsequents). The data showed that the correlation coefficient between the prior and subsequent succcess rate was 0.652, which could be interpreted as highly correlated. Therefore, the data also supported this hypothesis."
   ]
  },
  {
   "cell_type": "code",
   "execution_count": 207,
   "metadata": {
    "collapsed": true
   },
   "outputs": [],
   "source": [
    "df = pd.read_csv('data/Kickstarter_all.csv', encoding='utf-8', index_col=0)\n",
    "df.drop_duplicates(subset=['project_url'], inplace=True)\n",
    "df.sort_values(by='created_at', inplace=True)"
   ]
  },
  {
   "cell_type": "code",
   "execution_count": 213,
   "metadata": {
    "collapsed": false
   },
   "outputs": [
    {
     "data": {
      "text/html": [
       "<div>\n",
       "<table border=\"1\" class=\"dataframe\">\n",
       "  <thead>\n",
       "    <tr style=\"text-align: right;\">\n",
       "      <th></th>\n",
       "      <th>created_at</th>\n",
       "      <th>creator_id</th>\n",
       "    </tr>\n",
       "  </thead>\n",
       "  <tbody>\n",
       "    <tr>\n",
       "      <th>2021</th>\n",
       "      <td>1240335335</td>\n",
       "      <td>williambrittelle</td>\n",
       "    </tr>\n",
       "    <tr>\n",
       "      <th>276</th>\n",
       "      <td>1240366270</td>\n",
       "      <td>Samplefreq</td>\n",
       "    </tr>\n",
       "    <tr>\n",
       "      <th>3767</th>\n",
       "      <td>1240514851</td>\n",
       "      <td>1309681027</td>\n",
       "    </tr>\n",
       "    <tr>\n",
       "      <th>1426</th>\n",
       "      <td>1240600507</td>\n",
       "      <td>darkpony</td>\n",
       "    </tr>\n",
       "    <tr>\n",
       "      <th>1689</th>\n",
       "      <td>1240637870</td>\n",
       "      <td>dphiffer</td>\n",
       "    </tr>\n",
       "  </tbody>\n",
       "</table>\n",
       "</div>"
      ],
      "text/plain": [
       "      created_at        creator_id\n",
       "2021  1240335335  williambrittelle\n",
       "276   1240366270        Samplefreq\n",
       "3767  1240514851        1309681027\n",
       "1426  1240600507          darkpony\n",
       "1689  1240637870          dphiffer"
      ]
     },
     "execution_count": 213,
     "metadata": {},
     "output_type": "execute_result"
    }
   ],
   "source": [
    "df.get(['created_at', 'creator_id']).head()"
   ]
  },
  {
   "cell_type": "markdown",
   "metadata": {},
   "source": [
    "Group the data by creator's id, and take those who have created more than 3 projects into consideration."
   ]
  },
  {
   "cell_type": "code",
   "execution_count": 251,
   "metadata": {
    "collapsed": false
   },
   "outputs": [],
   "source": [
    "gb_id = df.groupby('creator_id') \\\n",
    "    .filter(lambda g: len(g) > 3) \\\n",
    "    .groupby('creator_id')"
   ]
  },
  {
   "cell_type": "code",
   "execution_count": 261,
   "metadata": {
    "collapsed": false
   },
   "outputs": [
    {
     "name": "stdout",
     "output_type": "stream",
     "text": [
      "1033 project creators.\n"
     ]
    }
   ],
   "source": [
    "print(str(len(gb_id)) + \" project creators.\")"
   ]
  },
  {
   "cell_type": "code",
   "execution_count": 252,
   "metadata": {
    "collapsed": true
   },
   "outputs": [],
   "source": [
    "def success_rate(states):\n",
    "    states = Counter(states)\n",
    "    return float(states['successful']) / sum(states.values())"
   ]
  },
  {
   "cell_type": "code",
   "execution_count": 253,
   "metadata": {
    "collapsed": false
   },
   "outputs": [],
   "source": [
    "df_stats = pd.DataFrame()\n",
    "df_stats['prior'] = gb_id.apply(lambda g: success_rate(g.state.values[:3]))\n",
    "df_stats['subsequent'] = gb_id.apply(lambda g: success_rate(g.state.values[3:]))"
   ]
  },
  {
   "cell_type": "code",
   "execution_count": 286,
   "metadata": {
    "collapsed": false
   },
   "outputs": [
    {
     "name": "stdout",
     "output_type": "stream",
     "text": [
      "Correlation coefficient r = 0.652\n"
     ]
    }
   ],
   "source": [
    "corrcoef = np.corrcoef(df_stats.prior, df_stats.subsequent)[0, 1]\n",
    "print(\"Correlation coefficient r = %.3f\" % (corrcoef))"
   ]
  },
  {
   "cell_type": "code",
   "execution_count": 273,
   "metadata": {
    "collapsed": false
   },
   "outputs": [
    {
     "data": {
      "text/plain": [
       "<matplotlib.figure.Figure at 0x11ba11750>"
      ]
     },
     "metadata": {},
     "output_type": "display_data"
    },
    {
     "data": {
      "image/png": "[encoded data removed]",
      "text/plain": [
       "<matplotlib.figure.Figure at 0x12f5862d0>"
      ]
     },
     "metadata": {},
     "output_type": "display_data"
    }
   ],
   "source": [
    "df_plot = pd.DataFrame({'Low (0-30%)': [np.mean(df_stats[df_stats.prior < .3].subsequent)],\n",
    "                        'Medium (30-70%)': [np.mean(0.3 <= df_stats[df_stats.prior < .6].subsequent)], \n",
    "                        'High (70-100%)': [np.mean(df_stats[.6 <= df_stats.prior].subsequent)]})\n",
    "def percentage(x, pos):\n",
    "    return '%d' % (x * 100)\n",
    "\n",
    "plt.figure()\n",
    "ax = df_plot.plot.bar(figsize=(6, 8), y=['Low (0-30%)', 'Medium (30-70%)', 'High (70-100%)'])\n",
    "ax.set_ylabel('Average Success Rate of The Subsequent Projects (%)')\n",
    "ax.set_xlabel('Average Success Rate of The First 3 Projects')\n",
    "ax.set_ylim(bottom=0.0, top=1.0)\n",
    "ax.yaxis.set_major_formatter(FuncFormatter(percentage))\n",
    "ax.set_xticks([])\n",
    "plt.show()"
   ]
  },
  {
   "cell_type": "markdown",
   "metadata": {},
   "source": [
    "## H3: Reciprocity"
   ]
  },
  {
   "cell_type": "markdown",
   "metadata": {},
   "source": [
    "## H4: Similarity\n",
    "\n",
    "Past research in social psychology has shown that people are more willing to help those who are similar to themselves [3]. Based on this theory, we developed 2 hypotheses to see if this phenomenon also apply to the online crowdfunding context."
   ]
  },
  {
   "cell_type": "markdown",
   "metadata": {},
   "source": [
    "## H4.1: Similarity (Interest-Based)\n",
    "** Creators are more likely to back projects in the same category as the projects they’ve created. **\n",
    "\n",
    "First, we think that people's inters"
   ]
  },
  {
   "cell_type": "markdown",
   "metadata": {},
   "source": [
    "## H4.2: Similarity (Location-Based)\n",
    "** People are more willing to back creators from the same country they are from. **\n",
    "\n",
    "Second, we thought that location might be an important factor that. For example, if there are 2 similar projects A and B. The creator of A is from Canada, while that of B is from Australia. Based on this hypothesis, there will be more Canadian backers of project A, and more Australian backers for project B.\n",
    "\n",
    "The result showed that more than 60% of the backers were from the same country as the project creators among all projects in the Tech dataset, which we considered as a support of H4.2. However, there might be a confounding variable."
   ]
  },
  {
   "cell_type": "code",
   "execution_count": 163,
   "metadata": {
    "collapsed": true
   },
   "outputs": [],
   "source": [
    "df = pd.read_csv('data/Kickstarter_Tech.csv', encoding='utf-8', index_col=0)"
   ]
  },
  {
   "cell_type": "code",
   "execution_count": 164,
   "metadata": {
    "collapsed": false
   },
   "outputs": [
    {
     "data": {
      "text/html": [
       "<div>\n",
       "<table border=\"1\" class=\"dataframe\">\n",
       "  <thead>\n",
       "    <tr style=\"text-align: right;\">\n",
       "      <th></th>\n",
       "      <th>location</th>\n",
       "      <th>top_countries</th>\n",
       "    </tr>\n",
       "  </thead>\n",
       "  <tbody>\n",
       "    <tr>\n",
       "      <th>1928</th>\n",
       "      <td>{\"country\":\"US\",\"urls\":{\"web\":{\"discover\":\"htt...</td>\n",
       "      <td>[[\"AR\", 10], [\"US\", 10], [\"SG\", 1], [\"GB\", 1]]</td>\n",
       "    </tr>\n",
       "    <tr>\n",
       "      <th>9188</th>\n",
       "      <td>{\"country\":\"AT\",\"urls\":{\"web\":{\"discover\":\"htt...</td>\n",
       "      <td>[[\"AT\", 18], [\"US\", 4], [\"DE\", 1], [\"KR\", 1], ...</td>\n",
       "    </tr>\n",
       "    <tr>\n",
       "      <th>5484</th>\n",
       "      <td>{\"country\":\"AT\",\"urls\":{\"web\":{\"discover\":\"htt...</td>\n",
       "      <td>[[\"AT\", 25], [\"DE\", 1], [\"US\", 1]]</td>\n",
       "    </tr>\n",
       "    <tr>\n",
       "      <th>4989</th>\n",
       "      <td>{\"country\":\"AU\",\"urls\":{\"web\":{\"discover\":\"htt...</td>\n",
       "      <td>[[\"AU\", 102], [\"US\", 15], [\"GB\", 14], [\"SG\", 6...</td>\n",
       "    </tr>\n",
       "    <tr>\n",
       "      <th>6932</th>\n",
       "      <td>{\"country\":\"AU\",\"urls\":{\"web\":{\"discover\":\"htt...</td>\n",
       "      <td>[[\"AU\", 10], [\"US\", 1]]</td>\n",
       "    </tr>\n",
       "  </tbody>\n",
       "</table>\n",
       "</div>"
      ],
      "text/plain": [
       "                                               location  \\\n",
       "1928  {\"country\":\"US\",\"urls\":{\"web\":{\"discover\":\"htt...   \n",
       "9188  {\"country\":\"AT\",\"urls\":{\"web\":{\"discover\":\"htt...   \n",
       "5484  {\"country\":\"AT\",\"urls\":{\"web\":{\"discover\":\"htt...   \n",
       "4989  {\"country\":\"AU\",\"urls\":{\"web\":{\"discover\":\"htt...   \n",
       "6932  {\"country\":\"AU\",\"urls\":{\"web\":{\"discover\":\"htt...   \n",
       "\n",
       "                                          top_countries  \n",
       "1928     [[\"AR\", 10], [\"US\", 10], [\"SG\", 1], [\"GB\", 1]]  \n",
       "9188  [[\"AT\", 18], [\"US\", 4], [\"DE\", 1], [\"KR\", 1], ...  \n",
       "5484                 [[\"AT\", 25], [\"DE\", 1], [\"US\", 1]]  \n",
       "4989  [[\"AU\", 102], [\"US\", 15], [\"GB\", 14], [\"SG\", 6...  \n",
       "6932                            [[\"AU\", 10], [\"US\", 1]]  "
      ]
     },
     "execution_count": 164,
     "metadata": {},
     "output_type": "execute_result"
    }
   ],
   "source": [
    "df.sort_values(by='top_countries').get(['location', 'top_countries']).head() # For visualization"
   ]
  },
  {
   "cell_type": "code",
   "execution_count": 171,
   "metadata": {
    "collapsed": false
   },
   "outputs": [],
   "source": [
    "creator_country_series = df.location.apply(lambda x: json.loads(x)['country'])\n",
    "backer_countries_series = df.top_countries.apply(lambda x: Counter(dict(json.loads(x))))"
   ]
  },
  {
   "cell_type": "code",
   "execution_count": 185,
   "metadata": {
    "collapsed": false
   },
   "outputs": [],
   "source": [
    "similarities = []\n",
    "for cc, bcs in zip(creator_country_series, backer_countries_series):\n",
    "    total = sum(bcs.values())\n",
    "    if cc in bcs:\n",
    "        similarities.append(bcs[cc] / float(total))\n",
    "    elif total > 0:\n",
    "        similarities.append(0.0)\n",
    "    else:\n",
    "        similarities.append(np.nan)\n",
    "similarities = np.array(similarities)"
   ]
  },
  {
   "cell_type": "code",
   "execution_count": 280,
   "metadata": {
    "collapsed": false
   },
   "outputs": [
    {
     "name": "stdout",
     "output_type": "stream",
     "text": [
      "9153 projects didn't have any backers at all.\n",
      "58 projects didn't have any backers from the same country.\n"
     ]
    }
   ],
   "source": [
    "nan_count = np.sum(np.isnan(similarities))\n",
    "print(\"%d projects didn't have any backers at all.\" % (nan_count))\n",
    "zero_count = np.sum(similarities == 0.0)\n",
    "print(\"%d projects didn't have any backers from the same country.\" % (zero_count))"
   ]
  },
  {
   "cell_type": "code",
   "execution_count": 279,
   "metadata": {
    "collapsed": false
   },
   "outputs": [
    {
     "name": "stdout",
     "output_type": "stream",
     "text": [
      "64.7% of backers are from the same country as the project creator.\n"
     ]
    }
   ],
   "source": [
    "mean_similarity = np.mean(similarities[np.logical_not(np.isnan(similarities))])\n",
    "print(\"%2.1f%% of backers are from the same country as the project creator.\" % (mean_similarity * 100))"
   ]
  },
  {
   "cell_type": "markdown",
   "metadata": {},
   "source": [
    "## H6: Effort"
   ]
  },
  {
   "cell_type": "code",
   "execution_count": null,
   "metadata": {
    "collapsed": true
   },
   "outputs": [],
   "source": []
  },
  {
   "cell_type": "markdown",
   "metadata": {},
   "source": [
    "## H7: Language"
   ]
  },
  {
   "cell_type": "code",
   "execution_count": null,
   "metadata": {
    "collapsed": true
   },
   "outputs": [],
   "source": []
  },
  {
   "cell_type": "markdown",
   "metadata": {},
   "source": [
    "## Conclusions\n"
   ]
  },
  {
   "cell_type": "markdown",
   "metadata": {},
   "source": [
    "## References\n",
    "1. Althoff, T., & Danescu-Niculescu-Mizil, C. (2014). How to ask for a favor: A case study on the success of altruistic requests. arXiv.org.\n",
    "2. Mitra, T., & Gilbert, E. (2014). The language that gets people to give: phrases that predict success on kickstarter (pp. 49–61). Presented at the CSCW '14: Proceedings of the 17th ACM conference on Computer supported cooperative work & social computing, ACM. http://doi.org/10.1145/2531602.2531656\n",
    "3. Ammons Scientific - Psychological Reports - 55(1):139 - PDF. (1984). Ammons Scientific - Psychological Reports - 55(1):139 - PDF. http://doi.org/10.2466/pr0.1984.55.1.139"
   ]
  },
  {
   "cell_type": "code",
   "execution_count": null,
   "metadata": {
    "collapsed": true
   },
   "outputs": [],
   "source": []
  }
 ],
 "metadata": {
  "kernelspec": {
   "display_name": "Python 2",
   "language": "python",
   "name": "python2"
  },
  "language_info": {
   "codemirror_mode": {
    "name": "ipython",
    "version": 2
   },
   "file_extension": ".py",
   "mimetype": "text/x-python",
   "name": "python",
   "nbconvert_exporter": "python",
   "pygments_lexer": "ipython2",
   "version": "2.7.11"
  }
 },
 "nbformat": 4,
 "nbformat_minor": 0
}
