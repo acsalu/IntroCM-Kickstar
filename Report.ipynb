{
 "cells": [
  {
   "cell_type": "markdown",
   "metadata": {},
   "source": [
    "# Kickstarter: What Makes Projects Succeed/Fail?\n",
    "#### IntroCM Spring 2016, Cornell Tech\n",
    "Inna Shteinbuk (ibs26) & Huai-Che Lu (hl938)"
   ]
  },
  {
   "cell_type": "markdown",
   "metadata": {},
   "source": [
    "## Introduction\n",
    "Crowdfunding is the practice of raising venture from the general public. Sites like [Kickstarter](https://www.kickstarter.com/) and [Indiegogo](https://www.indiegogo.com/) provide internet-mediated services to support the process of requesting and offering monetary help. In this project, we looked into different textual and social factors to see how they relate to the success or failure of projects.\n",
    "​\n",
    "On Kickstarter, creators launch projects where they can talk about the products and demonstrate the progress to attract backers' willingess to fund the projects. In return, creators give backers different rewards based on the sponsored amount. It's notable that the pledge rewards come with a delay after the backers provide the money, which is largest difference between crowdfunding sites and other e-commerce services: the risks for backers are a lot more higher than the risks for buyers.\n",
    "​\n",
    "## Related Work\n",
    "Althoff et al. looked at the textual and social factors in [Random Acts of Pizza (RAOP)](http://randomactsofpizza.com/) that influence the success of altruistic requests[1]. In RAOP, requesters ask for free pizzas with texts and/or photos. In return, they are required to express gratitude (in a post) after receivng help from others. The authors summarized that gratitude, reciprocity, urgency, and social status are the main factors that distinguish successful requests from the failed ones.\n",
    "​\n",
    "Mitra et al. analyzed the language usded in Kickstarter projects to persuade backers, and used the corpus to develop a predictive model using LIWC and other natural language processing techniques[2]. They identified factors including reciprocity, scarcity, social proofs, social identities, liking, and authority are the key drivers for a project to be funded.\n",
    "​\n",
    "## Research Question\n",
    "In this project, we looked at both textual and social factors on Kickstarter to see how the information presented on Kickstarter affect the creator-backer dynamic and the success/failure of projects.\n",
    "​\n",
    "## Hypotheses\n",
    "​\n",
    "Based on our research question, we developed the following hypotheses and checked whether the data at our disposal approve or disapprove them.\n",
    "​\n",
    "- The whole dataset\n",
    "    - **H1 [Trust]: ** Project creators are asking more money overtime.\n",
    "    - **H2 [Reputation]: ** Project creators with good records are more likely to get help.\n",
    "- Tech dataset \n",
    "    - **H3 [Reciprocity]: ** People who have already been backed, are more likely to back other projects.\n",
    "    - **H4 [Similarity]:**\n",
    "        - ** H4.1 (Interest-based): ** People are more likely to back projects in the same category as the projects they’ve created.\n",
    "        - ** H4.2 (Location-based): ** People are more willing to back creators from the same country.\n",
    "    - **H6 [Effort]:**\n",
    "    - **H7 [Language]:**\n",
    "    \n",
    "## CM Theories\n",
    "- Signaling Theory\n",
    "    - There are several signals backers might take advatage of to help them decide whether to back a project or not. For example, past records of a project creator (reputaion), the length of the project description (effort), and whether there's a video (effort) could all be factors in the decision making process.\n",
    "- Reciprocity\n",
    "    - People are more willing to offer help after recieving one.\n",
    "- Similarity\n",
    "    - People are more willing to offer help to those who resemble themselves."
   ]
  },
  {
   "cell_type": "markdown",
   "metadata": {},
   "source": [
    "## Dataset Overview\n",
    "### Original Data\n",
    "The dataset contains information of 154,504 Kickstarter projects from 04/2009 - 04/2016. For each project, the following columns are provided:\n",
    "- Numerical\n",
    "    1. Timestamps: Created At, Deadline\n",
    "    2. Monetary: Goal, Pledged\n",
    "- Categorical\n",
    "    1. Category: Super-category, Sub-category\n",
    "    2. State (Successful, Failes, Live, Canceled, Suspended)\n",
    "    3. Location: Country, State\n",
    "- Textual\n",
    "    1. Name\n",
    "    2. Blurb\n",
    "    3. URL\n",
    "    4. Creator ID\n",
    "\n",
    "### Scraped Data\n",
    "In additional to the original data, we wrote our own scrapers to get more information on a subset of the original dataset (successful or failed projects in Technology category from 01/2014 - 04/2016). The following information was collected for each project:\n",
    "- Numerical\n",
    "    1. Projects creators backed: Category, Timestamps\n",
    "    2. Backer Community: Top countries, Top cities\n",
    "- Cetegorical\n",
    "    1. Does The Project Has Video\n",
    "- Textual\n",
    "    1. Full project description\n",
    "    2. Risks and challenges"
   ]
  },
  {
   "cell_type": "markdown",
   "metadata": {},
   "source": [
    "** Import Packages **"
   ]
  },
  {
   "cell_type": "code",
   "execution_count": 1,
   "metadata": {
    "collapsed": false
   },
   "outputs": [],
   "source": [
    "import time\n",
    "import json\n",
    "from collections import Counter\n",
    "from datetime import datetime\n",
    "import glob\n",
    "import os\n",
    "\n",
    "%matplotlib inline\n",
    "import pandas as pd\n",
    "import numpy as np\n",
    "from scipy import stats\n",
    "import matplotlib.pyplot as plt\n",
    "from matplotlib.ticker import FuncFormatter\n",
    "import matplotlib.patches as mpatches\n",
    "plt.style.use('ggplot')\n",
    "\n",
    "import nltk, re, pprint\n",
    "from nltk import word_tokenize\n",
    "from nltk.corpus import *\n",
    "from nltk.stem import SnowballStemmer\n",
    "import nltk.data\n",
    "from nltk.corpus import stopwords\n",
    "import string"
   ]
  },
  {
   "cell_type": "markdown",
   "metadata": {},
   "source": [
    "## Dataset Introduction\n",
    "** Exploration of full dataset **"
   ]
  },
  {
   "cell_type": "code",
   "execution_count": 2,
   "metadata": {
    "collapsed": true
   },
   "outputs": [],
   "source": [
    "path ='../Untitled Folder/downloaded_kickstarter_data'\n",
    "all_files = glob.glob(os.path.join(path, \"*.csv\"))\n",
    "df = pd.concat((pd.read_csv(f) for f in all_files)) \n"
   ]
  },
  {
   "cell_type": "markdown",
   "metadata": {},
   "source": [
    "### Understand how each category does on Kickstarter. \n",
    "The circles are how popular the project is, and the shade of green represents the ratio of success/failed projects in each category. We can see that design is the most successful, and music seems to be the most popular. But we chose to explore technology."
   ]
  },
  {
   "cell_type": "code",
   "execution_count": 7,
   "metadata": {
    "collapsed": false
   },
   "outputs": [],
   "source": [
    "df['specific_category'] = df['category'].apply(lambda x: json.loads(x)['slug']) \n",
    "df['super_category'] = df['specific_category'].apply(lambda x: x.split('/')[0])    "
   ]
  },
  {
   "cell_type": "code",
   "execution_count": 8,
   "metadata": {
    "collapsed": true
   },
   "outputs": [],
   "source": [
    "super_cat_dict = {}\n",
    "for cat in df['super_category'].unique():\n",
    "    success = sum(df[df['super_category'] == cat]['state'] == 'successful')\n",
    "    failed = sum(df[df['super_category'] == cat]['state'] == 'failed')\n",
    "    total = df[df['super_category'] == cat].shape[0]\n",
    "    super_cat_dict[cat] = [total, success, failed]"
   ]
  },
  {
   "cell_type": "code",
   "execution_count": 10,
   "metadata": {
    "collapsed": false
   },
   "outputs": [
    {
     "data": {
      "text/plain": [
       "{u'art': [15568, 6291, 7843],\n",
       " u'comics': [3108, 1599, 1098],\n",
       " u'crafts': [2741, 596, 1778],\n",
       " u'dance': [953, 481, 385],\n",
       " u'design': [6576, 4398, 1433],\n",
       " u'fashion': [7933, 1712, 5158],\n",
       " u'film & video': [25741, 13855, 10136],\n",
       " u'food': [9051, 1787, 6045],\n",
       " u'games': [11587, 6271, 4084],\n",
       " u'journalism': [2053, 357, 1379],\n",
       " u'music': [27378, 15153, 10270],\n",
       " u'photography': [3489, 834, 2178],\n",
       " u'publishing': [18886, 7902, 9976],\n",
       " u'technology': [16863, 3304, 10429],\n",
       " u'theater': [2578, 1351, 939]}"
      ]
     },
     "execution_count": 10,
     "metadata": {},
     "output_type": "execute_result"
    }
   ],
   "source": [
    "#{category: [total,success, failed], ...}\n",
    "super_cat_dict"
   ]
  },
  {
   "cell_type": "code",
   "execution_count": 11,
   "metadata": {
    "collapsed": true
   },
   "outputs": [],
   "source": [
    "#export this csv to tableau\n",
    "super_cat_csv = pd.DataFrame(super_cat_dict).T\n",
    "super_cat_csv.to_csv(\"super_cat_csv.csv\", header=['total', 'successful', 'failed'])"
   ]
  },
  {
   "cell_type": "code",
   "execution_count": 12,
   "metadata": {
    "collapsed": false
   },
   "outputs": [
    {
     "data": {
      "image/png": "[encoded data removed]",
      "text/plain": [
       "<IPython.core.display.Image object>"
      ]
     },
     "execution_count": 12,
     "metadata": {},
     "output_type": "execute_result"
    }
   ],
   "source": [
    "#screenshot (used this for presentation)\n",
    "from IPython.display import Image\n",
    "Image(filename='../Untitled Folder/tableau_graph.png') "
   ]
  },
  {
   "cell_type": "markdown",
   "metadata": {},
   "source": [
    "## Community critical mass\n",
    "We plotted Failed and Successful projects from Kickstarter over the course of the dataset. \n",
    "The earliest date was and the scrapign went until\n",
    "We found that the data looks kind of exponential, and we attribute this to the critical mass theory.\n",
    "As more people joined, critical mass was reached so that even more people joined, and this in turn\n",
    "helped the Kickstarter community grow. Due to critical mass and the expanding number of users\n",
    "on Kickstarter, new users are more willing to join the community, start their own projects, and back\n",
    "projects.\n",
    "We were also surprised to see that there are actually more successful projects than failed projects.\n",
    "This was until May 2015, but we are not quite sure why now failed projects are exceeding successful one\n",
    "'''1"
   ]
  },
  {
   "cell_type": "code",
   "execution_count": 3,
   "metadata": {
    "collapsed": false
   },
   "outputs": [
    {
     "name": "stdout",
     "output_type": "stream",
     "text": [
      "Tue Apr 21 13:35:35 2009\n",
      "Thu Apr 14 20:14:17 2016\n",
      "04/14/16 20:14\n",
      "04/14/16 \n"
     ]
    }
   ],
   "source": [
    "#start and end dates of dataset\n",
    "max_time = max(df['created_at'])\n",
    "min_time = min(df['created_at'])\n",
    "print time.ctime(min_time)\n",
    "print time.ctime(max_time)\n",
    "print time.strftime(\"%D %H:%M\", time.localtime(max_time))\n",
    "print time.strftime(\"%D \", time.localtime(max_time))\n",
    "\n",
    "kstr_sorted = df.sort_values(['created_at'])\n",
    "kstr_sorted['successful_count'] = kstr_sorted['state'].apply(lambda x: 1 if x =='successful' else 0) \n",
    "kstr_sorted['failed_count'] = kstr_sorted['state'].apply(lambda x: 1 if x =='failed' else 0) \n",
    "\n",
    "kstr_sorted['running_count_successful'] = kstr_sorted['successful_count'].cumsum()\n",
    "kstr_sorted['running_count_failed'] = kstr_sorted['failed_count'].cumsum()\n",
    "\n",
    "new_df = pd.concat([kstr_sorted['created_at'], kstr_sorted['running_count_successful'], kstr_sorted['running_count_failed']], axis=1, keys=['date', 'number_successful', 'number_failed'])\n",
    "new_df['read_date'] = new_df['date'].apply(lambda x: time.strftime(\"%D \", time.localtime(x)))\n"
   ]
  },
  {
   "cell_type": "code",
   "execution_count": 4,
   "metadata": {
    "collapsed": false
   },
   "outputs": [
    {
     "data": {
      "text/plain": [
       "<matplotlib.text.Text at 0x10f8797d0>"
      ]
     },
     "execution_count": 4,
     "metadata": {},
     "output_type": "execute_result"
    },
    {
     "data": {
      "image/png": "[encoded data removed]",
      "text/plain": [
       "<matplotlib.figure.Figure at 0x12f6d53d0>"
      ]
     },
     "metadata": {},
     "output_type": "display_data"
    }
   ],
   "source": [
    "plt.figure(figsize=(20,10)) \n",
    "plt.style.use('ggplot')\n",
    "plt.plot(new_df['date'], new_df['number_successful'], label = 'number successful', color = 'b')\n",
    "plt.plot(new_df['date'], new_df['number_failed'], label = 'number failed', color = 'r')\n",
    "\n",
    "red_patch = mpatches.Patch(color='red', label='Failed')\n",
    "blue_patch = mpatches.Patch(color='b', label='Successful')\n",
    "plt.legend(handles=[red_patch, blue_patch])\n",
    "\n",
    "plt.ylabel('Running Count of Projects')\n",
    "plt.xlabel('Date')\n",
    "\n",
    "plt.title(\"Failed and Successful Projects April 2009-2016\", fontsize=20 )\n"
   ]
  },
  {
   "cell_type": "markdown",
   "metadata": {},
   "source": [
    "## H1: Trust\n",
    "** Project creators are willing to ask for more money overtime. **\n",
    "\n",
    "We're interested in users' overall trust in the crowdfunding platform and the ecosystem. To measure this construct, we looked at the money people are asking for. The idea was that the more people are asking for, the more trust they have.\n",
    "\n",
    "We aggregated the median of project goals (the variation is pretty large, so we use median instead of mean to minimize the effect of outliers) for each month, and ploted bar charts for all projects as well as the successful and failed ones. The result showed an increasing trend of the money people are asking for on Kickstarter. For all projects, the number has increased from 3K USD to 5K USD in the past 7 years. This supported our hypothesis that people's trust increases overtime."
   ]
  },
  {
   "cell_type": "code",
   "execution_count": 465,
   "metadata": {
    "collapsed": false
   },
   "outputs": [],
   "source": [
    "df = pd.read_csv('data/Kickstarter_all.csv', encoding='utf-8', index_col=0)\n",
    "df.drop_duplicates(inplace=True)\n",
    "df = df[(df.state == 'successful') | (df.state == 'failed')]\n",
    "df.sort_values(by='created_at', inplace=True)"
   ]
  },
  {
   "cell_type": "code",
   "execution_count": 466,
   "metadata": {
    "collapsed": true
   },
   "outputs": [],
   "source": [
    "# convert Unix time to month string\n",
    "def timestamp2monthstr(t):\n",
    "    d = datetime.fromtimestamp(t)\n",
    "    return \"%d/%d\" % (d.month, d.year)\n",
    "\n",
    "# convert month string to the Unix time of the first day of that month\n",
    "def monthstr2timestamp(s):\n",
    "    first_day = '1/' + s\n",
    "    return time.mktime(datetime.strptime(first_day, '%d/%m/%Y').timetuple())\n",
    "\n",
    "df['created_month'] = df.created_at.apply(timestamp2monthstr)"
   ]
  },
  {
   "cell_type": "code",
   "execution_count": 467,
   "metadata": {
    "collapsed": false
   },
   "outputs": [],
   "source": [
    "def plot_trust(df, key):\n",
    "    gb = df.groupby(key)\n",
    "    median_goals = gb.apply(lambda g: np.median(g.goal))\n",
    "    \n",
    "    timestamps = [monthstr2timestamp(key) for key, g in gb]\n",
    "    median_goals = [mg for mg in median_goals]\n",
    "    \n",
    "    df_plot = pd.DataFrame()\n",
    "    df_plot['median_goal'] = pd.Series(median_goals)\n",
    "    df_plot['timestamp'] = pd.Series(timestamps)\n",
    "    df_plot.sort_values(by='timestamp', inplace=True)\n",
    "    \n",
    "    def millions(y, pos):\n",
    "        'The two args are the value and tick position'\n",
    "        return '$%dK' % (y * 1e-3)\n",
    "\n",
    "    def timestamp_formatter(t, pos):\n",
    "        return timestamp2monthstr(timestamps[pos]) if pos % 3 == 0 else \"\"\n",
    "\n",
    "    plt.figure()\n",
    "    ax = df_plot.plot.bar(x='timestamp', y='median_goal', figsize=(10, 5))\n",
    "    ax.set_ylabel('Median Goal (USD)')\n",
    "    ax.set_xlabel('Time')\n",
    "    ax.yaxis.set_major_formatter(FuncFormatter(millions))\n",
    "    ax.xaxis.set_major_formatter(FuncFormatter(timestamp_formatter))\n",
    "    plt.show()"
   ]
  },
  {
   "cell_type": "code",
   "execution_count": 468,
   "metadata": {
    "collapsed": false
   },
   "outputs": [
    {
     "data": {
      "text/plain": [
       "<matplotlib.figure.Figure at 0x12f9de310>"
      ]
     },
     "metadata": {},
     "output_type": "display_data"
    },
    {
     "data": {
      "image/png": "[encoded data removed]",
      "text/plain": [
       "<matplotlib.figure.Figure at 0x132f21ad0>"
      ]
     },
     "metadata": {},
     "output_type": "display_data"
    }
   ],
   "source": [
    "plot_trust(df, 'created_month')"
   ]
  },
  {
   "cell_type": "code",
   "execution_count": 469,
   "metadata": {
    "collapsed": false
   },
   "outputs": [
    {
     "data": {
      "text/plain": [
       "<matplotlib.figure.Figure at 0x132f12e50>"
      ]
     },
     "metadata": {},
     "output_type": "display_data"
    },
    {
     "data": {
      "image/png": "[encoded data removed]",
      "text/plain": [
       "<matplotlib.figure.Figure at 0x13d52ab10>"
      ]
     },
     "metadata": {},
     "output_type": "display_data"
    }
   ],
   "source": [
    "plot_trust(df[df.state == 'successful'], 'created_month')"
   ]
  },
  {
   "cell_type": "code",
   "execution_count": 470,
   "metadata": {
    "collapsed": false
   },
   "outputs": [
    {
     "data": {
      "text/plain": [
       "<matplotlib.figure.Figure at 0x12464eb90>"
      ]
     },
     "metadata": {},
     "output_type": "display_data"
    },
    {
     "data": {
      "image/png": "[encoded data removed]",
      "text/plain": [
       "<matplotlib.figure.Figure at 0x131c04fd0>"
      ]
     },
     "metadata": {},
     "output_type": "display_data"
    }
   ],
   "source": [
    "plot_trust(df[df.state == 'failed'], 'created_month')"
   ]
  },
  {
   "cell_type": "markdown",
   "metadata": {},
   "source": [
    "## H2: Reputation\n",
    "** Project creators with good records are more likely to get help. **\n",
    "\n",
    "Due to the nature of crowdfunding, there are risks that the project won't be carried out. Therefore, we thought that people would use reputation of a creator, the past records of his/her projects, as an assessment signal to help them determine whether to sponsor the project or not.\n",
    "\n",
    "We looked at people who have created more than 3 projects to see whether the success rate of their first 3 projects (priors) correlates to that of the rest of the projects (subsequents). The data showed that the correlation coefficient between the prior and subsequent succcess rate was 0.652, which could be interpreted as highly correlated. Also, the average subsequent success rate for people with high prior success rates (> 60%) was over 80%, while that for those with low prior success rate (< 30%) was less than 20%, which again proved the importance of reputation on Kickstarter. Therefore, the data we collected also supported the hypothesis of reputation."
   ]
  },
  {
   "cell_type": "code",
   "execution_count": 639,
   "metadata": {
    "collapsed": true
   },
   "outputs": [],
   "source": [
    "df = pd.read_csv('data/Kickstarter_all.csv', encoding='utf-8', index_col=0)\n",
    "df.drop_duplicates(subset=['project_url'], inplace=True)\n",
    "df.sort_values(by='created_at', inplace=True)"
   ]
  },
  {
   "cell_type": "code",
   "execution_count": 640,
   "metadata": {
    "collapsed": false
   },
   "outputs": [
    {
     "data": {
      "text/html": [
       "<div>\n",
       "<table border=\"1\" class=\"dataframe\">\n",
       "  <thead>\n",
       "    <tr style=\"text-align: right;\">\n",
       "      <th></th>\n",
       "      <th>created_at</th>\n",
       "      <th>creator_id</th>\n",
       "    </tr>\n",
       "  </thead>\n",
       "  <tbody>\n",
       "    <tr>\n",
       "      <th>2021</th>\n",
       "      <td>1240335335</td>\n",
       "      <td>williambrittelle</td>\n",
       "    </tr>\n",
       "    <tr>\n",
       "      <th>276</th>\n",
       "      <td>1240366270</td>\n",
       "      <td>Samplefreq</td>\n",
       "    </tr>\n",
       "    <tr>\n",
       "      <th>3767</th>\n",
       "      <td>1240514851</td>\n",
       "      <td>1309681027</td>\n",
       "    </tr>\n",
       "    <tr>\n",
       "      <th>1426</th>\n",
       "      <td>1240600507</td>\n",
       "      <td>darkpony</td>\n",
       "    </tr>\n",
       "    <tr>\n",
       "      <th>1689</th>\n",
       "      <td>1240637870</td>\n",
       "      <td>dphiffer</td>\n",
       "    </tr>\n",
       "  </tbody>\n",
       "</table>\n",
       "</div>"
      ],
      "text/plain": [
       "      created_at        creator_id\n",
       "2021  1240335335  williambrittelle\n",
       "276   1240366270        Samplefreq\n",
       "3767  1240514851        1309681027\n",
       "1426  1240600507          darkpony\n",
       "1689  1240637870          dphiffer"
      ]
     },
     "execution_count": 640,
     "metadata": {},
     "output_type": "execute_result"
    }
   ],
   "source": [
    "df.get(['created_at', 'creator_id']).head()"
   ]
  },
  {
   "cell_type": "markdown",
   "metadata": {},
   "source": [
    "Group the data by creator's id, and take those who have created more than 3 projects into consideration."
   ]
  },
  {
   "cell_type": "code",
   "execution_count": 641,
   "metadata": {
    "collapsed": false
   },
   "outputs": [],
   "source": [
    "gb_id = df.groupby('creator_id') \\\n",
    "    .filter(lambda g: len(g) > 3) \\\n",
    "    .groupby('creator_id')"
   ]
  },
  {
   "cell_type": "code",
   "execution_count": 642,
   "metadata": {
    "collapsed": false
   },
   "outputs": [
    {
     "name": "stdout",
     "output_type": "stream",
     "text": [
      "1033 project creators.\n"
     ]
    }
   ],
   "source": [
    "print(str(len(gb_id)) + \" project creators.\")"
   ]
  },
  {
   "cell_type": "code",
   "execution_count": 643,
   "metadata": {
    "collapsed": true
   },
   "outputs": [],
   "source": [
    "def success_rate(states):\n",
    "    states = Counter(states)\n",
    "    return float(states['successful']) / sum(states.values())"
   ]
  },
  {
   "cell_type": "code",
   "execution_count": 656,
   "metadata": {
    "collapsed": false
   },
   "outputs": [],
   "source": [
    "df_stats = pd.DataFrame()\n",
    "df_stats['prior'] = gb_id.apply(lambda g: success_rate(g.state.values[:3]))\n",
    "df_stats['subsequent'] = gb_id.apply(lambda g: success_rate(g.state.values[3:]))\n",
    "\n",
    "df_stats['prior_level'] = df_stats.prior.apply(lambda p: 'Low' if p < 0.3 else 'Medium' if p < 0.6 else 'High')"
   ]
  },
  {
   "cell_type": "code",
   "execution_count": 657,
   "metadata": {
    "collapsed": false
   },
   "outputs": [
    {
     "name": "stdout",
     "output_type": "stream",
     "text": [
      "Correlation coefficient r = 0.652\n"
     ]
    }
   ],
   "source": [
    "corrcoef = np.corrcoef(df_stats.prior, df_stats.subsequent)[0, 1]\n",
    "print(\"Correlation coefficient r = %.3f\" % (corrcoef))"
   ]
  },
  {
   "cell_type": "code",
   "execution_count": 658,
   "metadata": {
    "collapsed": false
   },
   "outputs": [
    {
     "name": "stdout",
     "output_type": "stream",
     "text": [
      "723\n",
      "124\n",
      "186\n"
     ]
    }
   ],
   "source": [
    "gb_level = df_stats.groupby('prior_level')\n",
    "print len(gb_level.get_group('High'))\n",
    "print len(gb_level.get_group('Medium'))\n",
    "print len(gb_level.get_group('Low'))"
   ]
  },
  {
   "cell_type": "code",
   "execution_count": 659,
   "metadata": {
    "collapsed": false
   },
   "outputs": [
    {
     "data": {
      "text/plain": [
       "<matplotlib.figure.Figure at 0x3069d00d0>"
      ]
     },
     "metadata": {},
     "output_type": "display_data"
    },
    {
     "data": {
      "image/png": "[encoded data removed]",
      "text/plain": [
       "<matplotlib.figure.Figure at 0x3060ad910>"
      ]
     },
     "metadata": {},
     "output_type": "display_data"
    }
   ],
   "source": [
    "gb_level = df_stats.groupby('prior_level')\n",
    "df_plot = gb_level.subsequent.mean().reset_index(name='Success Rate')\n",
    "\n",
    "levels = ['Low', 'Medium', 'High']\n",
    "mapping = {level: i for i, level in enumerate(levels)}\n",
    "key = df_plot['prior_level'].map(mapping)    \n",
    "df_plot = df_plot.iloc[key.argsort()]\n",
    "\n",
    "def percentage(x, pos):\n",
    "    return '%d' % (x * 100)\n",
    "\n",
    "plt.figure()\n",
    "ax = df_plot.plot.bar(x='prior_level', y='Success Rate', figsize=(5, 5))\n",
    "ax.set_ylabel('Average Success Rate of The Subsequent Projects (%)')\n",
    "ax.set_xlabel('Levels of Success Rate of The First 3 Projects')\n",
    "ax.set_ylim(bottom=0.0, top=1.0)\n",
    "ax.yaxis.set_major_formatter(FuncFormatter(percentage))\n",
    "plt.show()"
   ]
  },
  {
   "cell_type": "markdown",
   "metadata": {},
   "source": [
    "## H3: Reciprocity\n",
    "** People who have already been backed are more likely to back other projects. ** \n",
    "\n",
    "Reciprocity refers to the social norm where after receiving a favor, people tend to pay it back in some way [4]. In the crowdfunding context, this could be interpreted as how creators' backing behavior changes in response to the help they received from other backers for their own projects.\n",
    "\n",
    "We grouped project creators by the state of their first projects, which gave us 4 groups: (successful, failed, suspended, and canceled). Then, we compare the number of projects they backed after the first project was created **[*]**. On average, people in the successful group backed more than 2.5 projects while those in the failed group only backed less than 0.5 projects after the first project. The difference between the successful group and failed group was statistically significant (p < .01). The finding was consistent with the reciprocity theory, which supported the hypothesis.\n",
    "\n",
    "**[*]** There might be some bias here since we didn't know when they backed the project exactly, but since projects are only live for a certain period of time, the data is still valid to some extent. "
   ]
  },
  {
   "cell_type": "code",
   "execution_count": 475,
   "metadata": {
    "collapsed": false
   },
   "outputs": [],
   "source": [
    "df = pd.read_csv('data/Kickstarter_Tech.csv', encoding='utf-8', index_col=0)\n",
    "tech_creators = df.creator_id.unique()"
   ]
  },
  {
   "cell_type": "code",
   "execution_count": 522,
   "metadata": {
    "collapsed": false
   },
   "outputs": [
    {
     "data": {
      "text/html": [
       "<div>\n",
       "<table border=\"1\" class=\"dataframe\">\n",
       "  <thead>\n",
       "    <tr style=\"text-align: right;\">\n",
       "      <th></th>\n",
       "      <th>creator_id</th>\n",
       "      <th>backed_timestamps</th>\n",
       "    </tr>\n",
       "  </thead>\n",
       "  <tbody>\n",
       "    <tr>\n",
       "      <th>3696</th>\n",
       "      <td>1056965878</td>\n",
       "      <td>[1462827709.0, 1461145023.0, 1452657882, 14509...</td>\n",
       "    </tr>\n",
       "    <tr>\n",
       "      <th>11488</th>\n",
       "      <td>1984955468</td>\n",
       "      <td>[1462814718.0, 1445888755.0, 1446334099.0, 144...</td>\n",
       "    </tr>\n",
       "    <tr>\n",
       "      <th>9464</th>\n",
       "      <td>420233999</td>\n",
       "      <td>[1462800001.0, 1461693164.0, 1460009406, 14573...</td>\n",
       "    </tr>\n",
       "    <tr>\n",
       "      <th>10613</th>\n",
       "      <td>1759750922</td>\n",
       "      <td>[1462768318.0, 1447318380]</td>\n",
       "    </tr>\n",
       "    <tr>\n",
       "      <th>6297</th>\n",
       "      <td>2040856244</td>\n",
       "      <td>[1462548024.0, 1331209343.0]</td>\n",
       "    </tr>\n",
       "  </tbody>\n",
       "</table>\n",
       "</div>"
      ],
      "text/plain": [
       "       creator_id                                  backed_timestamps\n",
       "3696   1056965878  [1462827709.0, 1461145023.0, 1452657882, 14509...\n",
       "11488  1984955468  [1462814718.0, 1445888755.0, 1446334099.0, 144...\n",
       "9464    420233999  [1462800001.0, 1461693164.0, 1460009406, 14573...\n",
       "10613  1759750922                         [1462768318.0, 1447318380]\n",
       "6297   2040856244                       [1462548024.0, 1331209343.0]"
      ]
     },
     "execution_count": 522,
     "metadata": {},
     "output_type": "execute_result"
    }
   ],
   "source": [
    "df_reciprocity = df.get(['creator_id', 'backed_timestamps']).drop_duplicates()\n",
    "df_reciprocity.backed_timestamps = df_reciprocity.backed_timestamps.apply(json.loads)\n",
    "df_reciprocity.sort_values(by='backed_timestamps', ascending=False).head() # For visualization"
   ]
  },
  {
   "cell_type": "code",
   "execution_count": 480,
   "metadata": {
    "collapsed": true
   },
   "outputs": [],
   "source": [
    "df_all = pd.read_csv('data/Kickstarter_all.csv', encoding='utf-8', index_col=0)\n",
    "df_all['creator_id'] = df_all.creator.apply(lambda x: json.loads(x)['id'])\n",
    "df_all.sort_values(by='created_at', inplace=True)\n",
    "all_gb_id = df_all.groupby('creator_id')"
   ]
  },
  {
   "cell_type": "code",
   "execution_count": 478,
   "metadata": {
    "collapsed": false
   },
   "outputs": [
    {
     "name": "stdout",
     "output_type": "stream",
     "text": [
      "10846 unique creators in Tech dataset.\n"
     ]
    }
   ],
   "source": [
    "print(\"%d unique creators in Tech dataset.\" % (len(tech_creators)))"
   ]
  },
  {
   "cell_type": "code",
   "execution_count": 526,
   "metadata": {
    "collapsed": true
   },
   "outputs": [],
   "source": [
    "def get_first_state(row):\n",
    "    cid = row.creator_id\n",
    "    first_state = all_gb_id.get_group(cid).state.values[0]\n",
    "    return first_state\n",
    "\n",
    "def get_backed_count_after_first(row):\n",
    "    cid = row.creator_id\n",
    "    backed_timestamps = row.backed_timestamps\n",
    "    first_created_at = all_gb_id.get_group(cid).created_at.values[0]\n",
    "    return len(filter(lambda x: x > first_created_at, backed_timestamps))"
   ]
  },
  {
   "cell_type": "code",
   "execution_count": 527,
   "metadata": {
    "collapsed": false
   },
   "outputs": [],
   "source": [
    "df_reciprocity['backed_count_after_first'] = df_reciprocity.apply(get_backed_count_after_first, axis=1)\n",
    "df_reciprocity['first_state'] = df_reciprocity.apply(get_first_state, axis=1)"
   ]
  },
  {
   "cell_type": "code",
   "execution_count": 529,
   "metadata": {
    "collapsed": false
   },
   "outputs": [
    {
     "data": {
      "text/html": [
       "<div>\n",
       "<table border=\"1\" class=\"dataframe\">\n",
       "  <thead>\n",
       "    <tr style=\"text-align: right;\">\n",
       "      <th></th>\n",
       "      <th>creator_id</th>\n",
       "      <th>backed_timestamps</th>\n",
       "      <th>backed_count_after_first</th>\n",
       "      <th>first_state</th>\n",
       "    </tr>\n",
       "  </thead>\n",
       "  <tbody>\n",
       "    <tr>\n",
       "      <th>3696</th>\n",
       "      <td>1056965878</td>\n",
       "      <td>[1462827709.0, 1461145023.0, 1452657882, 14509...</td>\n",
       "      <td>10</td>\n",
       "      <td>failed</td>\n",
       "    </tr>\n",
       "    <tr>\n",
       "      <th>11488</th>\n",
       "      <td>1984955468</td>\n",
       "      <td>[1462814718.0, 1445888755.0, 1446334099.0, 144...</td>\n",
       "      <td>8</td>\n",
       "      <td>successful</td>\n",
       "    </tr>\n",
       "    <tr>\n",
       "      <th>9464</th>\n",
       "      <td>420233999</td>\n",
       "      <td>[1462800001.0, 1461693164.0, 1460009406, 14573...</td>\n",
       "      <td>6</td>\n",
       "      <td>successful</td>\n",
       "    </tr>\n",
       "    <tr>\n",
       "      <th>10613</th>\n",
       "      <td>1759750922</td>\n",
       "      <td>[1462768318.0, 1447318380]</td>\n",
       "      <td>2</td>\n",
       "      <td>successful</td>\n",
       "    </tr>\n",
       "    <tr>\n",
       "      <th>6297</th>\n",
       "      <td>2040856244</td>\n",
       "      <td>[1462548024.0, 1331209343.0]</td>\n",
       "      <td>1</td>\n",
       "      <td>failed</td>\n",
       "    </tr>\n",
       "  </tbody>\n",
       "</table>\n",
       "</div>"
      ],
      "text/plain": [
       "       creator_id                                  backed_timestamps  \\\n",
       "3696   1056965878  [1462827709.0, 1461145023.0, 1452657882, 14509...   \n",
       "11488  1984955468  [1462814718.0, 1445888755.0, 1446334099.0, 144...   \n",
       "9464    420233999  [1462800001.0, 1461693164.0, 1460009406, 14573...   \n",
       "10613  1759750922                         [1462768318.0, 1447318380]   \n",
       "6297   2040856244                       [1462548024.0, 1331209343.0]   \n",
       "\n",
       "       backed_count_after_first first_state  \n",
       "3696                         10      failed  \n",
       "11488                         8  successful  \n",
       "9464                          6  successful  \n",
       "10613                         2  successful  \n",
       "6297                          1      failed  "
      ]
     },
     "execution_count": 529,
     "metadata": {},
     "output_type": "execute_result"
    }
   ],
   "source": [
    "df_reciprocity.sort_values(by='backed_timestamps', ascending=False).head()"
   ]
  },
  {
   "cell_type": "code",
   "execution_count": 584,
   "metadata": {
    "collapsed": false
   },
   "outputs": [],
   "source": [
    "reciprocity_gb_state = df_reciprocity.groupby('first_state')"
   ]
  },
  {
   "cell_type": "code",
   "execution_count": 633,
   "metadata": {
    "collapsed": false
   },
   "outputs": [
    {
     "data": {
      "text/plain": [
       "<matplotlib.figure.Figure at 0x2f9a59bd0>"
      ]
     },
     "metadata": {},
     "output_type": "display_data"
    },
    {
     "data": {
      "image/png": "[encoded data removed]",
      "text/plain": [
       "<matplotlib.figure.Figure at 0x2f99ba490>"
      ]
     },
     "metadata": {},
     "output_type": "display_data"
    }
   ],
   "source": [
    "df_plot = reciprocity_gb_state.backed_count_after_first.mean().reset_index(name='Backed Count')\n",
    "\n",
    "states = ['suspended', 'failed', 'canceled', 'successful']\n",
    "mapping = {state: i for i, state in enumerate(states)}\n",
    "key = df_plot['first_state'].map(mapping)    \n",
    "df_plot = df_plot.iloc[key.argsort()]\n",
    "\n",
    "plt.figure()\n",
    "ax = df_plot.plot.bar(x='first_state', y='Backed Count', figsize=(5, 5))\n",
    "ax.set_ylabel('# of projects backed after first project')\n",
    "ax.set_xlabel('State of first project')\n",
    "plt.show()"
   ]
  },
  {
   "cell_type": "code",
   "execution_count": 583,
   "metadata": {
    "collapsed": false
   },
   "outputs": [
    {
     "name": "stdout",
     "output_type": "stream",
     "text": [
      "p-value of T-test: 4.48374036884e-78  < .01\n"
     ]
    }
   ],
   "source": [
    "successful = reciprocity_gb_state.get_group('successful').backed_count_after_first.values\n",
    "failed = reciprocity_gb_state.get_group('failed').backed_count_after_first.values\n",
    "\n",
    "t, p = stats.ttest_ind(successful, failed, equal_var=False)\n",
    "print 'p-value of T-test:', p, ' < .01'"
   ]
  },
  {
   "cell_type": "markdown",
   "metadata": {},
   "source": [
    "## H4: Similarity\n",
    "\n",
    "Past research in social psychology has shown that people are more willing to help those who are similar to themselves [3]. Based on the similarity theory, we developed 2 related hypotheses (H4.1 and H4.2) to see if it could also be applied to the online crowdfunding context by measuring interest-based similarity ($S_I$) and location-based similarity ($S_L$), respectively."
   ]
  },
  {
   "cell_type": "markdown",
   "metadata": {},
   "source": [
    "## H4.1: Similarity (Interest-Based)\n",
    "** Creators are more likely to back projects in the same category as the projects they’ve created. **\n",
    "\n",
    "It's resonable to assume that people back projects based on their own interests. Another assumption we made was that a creator's interest could be represented by the projects he or she launched. For example, Tony has created 3 software projects and 2 boardgame projects, so we assume that he is interested in Technology and Game.\n",
    "\n",
    "We define an interest-based similarity $S_I$ for each project creator, a measure with range [0, 1.0] that represents the fraction of projects a creator backed within the categories he/she has created among all the backed projects.\n",
    "\n",
    "For each project creator in the Tech dataset, we computed $S_I$ for both super-categories (Art, Design, Technology, etc.) and sub-categories (Public Art, Dance, Software, etc.), and we found that the average similarity of super-categoris was around 0.5, while that of sub-categories was less than 0.2. In other words, about half of the projects these creators backed fall into the categories they've created, but less than 20% of them matched the specific sub-categories (this might be due to the fact that sub-categories are too fragmented). Another interesting finding was that people who backed more projects tend to have higher $S_I$ values for super-categories, which means they are more willing to back projects similar to their interests.\n",
    "\n",
    "In conclustion, the data only supported (not strongly) the interest-based similarity hypothesis for super-categoris but not for sub-categories."
   ]
  },
  {
   "cell_type": "code",
   "execution_count": 320,
   "metadata": {
    "collapsed": true
   },
   "outputs": [],
   "source": [
    "df = pd.read_csv('data/Kickstarter_Tech.csv', encoding='utf-8', index_col=0)\n",
    "gb_id = df.groupby('creator_id')\n",
    "all_ids = df.creator_id.unique()"
   ]
  },
  {
   "cell_type": "code",
   "execution_count": 323,
   "metadata": {
    "collapsed": false
   },
   "outputs": [],
   "source": [
    "df_created_cats = pd.read_csv('data/created_cats.csv', encoding='utf-8', index_col=0)\n",
    "created_cats_gb_id = df_created_cats.groupby('creator_id')\n",
    "created_cats_counters = \\\n",
    "    dict(map(lambda i: (i, Counter(created_cats_gb_id.get_group(i).super_category)), all_ids))\n",
    "backed_cats_counters = \\\n",
    "    dict(map(lambda i: (i, gb_id.get_group(i).backed_super_categories.values[0]), all_ids))"
   ]
  },
  {
   "cell_type": "code",
   "execution_count": 400,
   "metadata": {
    "collapsed": false
   },
   "outputs": [],
   "source": [
    "df_tech_creators = pd.DataFrame()\n",
    "df_tech_creators['creator_id'] = pd.Series(df.creator_id.unique())"
   ]
  },
  {
   "cell_type": "code",
   "execution_count": 401,
   "metadata": {
    "collapsed": false
   },
   "outputs": [],
   "source": [
    "df_tech_creators['backed'] = df_tech_creators.creator_id \\\n",
    "    .map(lambda id_: gb_id.get_group(id_).backed.values[0])\n",
    "df_tech_creators['created'] = df_tech_creators.creator_id \\\n",
    "    .map(lambda id_: gb_id.get_group(id_).created.values[0])\n",
    "df_tech_creators['created_super_categories'] = df_tech_creators.creator_id \\\n",
    "    .map(lambda id_: Counter(created_cats_gb_id.get_group(id_).super_category))\n",
    "df_tech_creators['created_specific_categories'] = df_tech_creators.creator_id \\\n",
    "    .map(lambda id_: Counter(created_cats_gb_id.get_group(id_).specific_cateogry))\n",
    "df_tech_creators['backed_super_categories'] = df_tech_creators.creator_id \\\n",
    "    .map(lambda id_: gb_id.get_group(id_).backed_super_categories.values[0])\n",
    "df_tech_creators['backed_specific_categories'] = df_tech_creators.creator_id \\\n",
    "    .map(lambda id_: gb_id.get_group(id_).backed_specific_categories.values[0])"
   ]
  },
  {
   "cell_type": "code",
   "execution_count": 386,
   "metadata": {
    "collapsed": false
   },
   "outputs": [
    {
     "data": {
      "text/html": [
       "<div>\n",
       "<table border=\"1\" class=\"dataframe\">\n",
       "  <thead>\n",
       "    <tr style=\"text-align: right;\">\n",
       "      <th></th>\n",
       "      <th>creator_id</th>\n",
       "      <th>backed</th>\n",
       "      <th>created</th>\n",
       "      <th>created_super_categories</th>\n",
       "      <th>created_specific_categories</th>\n",
       "      <th>backed_super_categories</th>\n",
       "      <th>backed_specific_categories</th>\n",
       "    </tr>\n",
       "  </thead>\n",
       "  <tbody>\n",
       "    <tr>\n",
       "      <th>0</th>\n",
       "      <td>dstechlabs</td>\n",
       "      <td>0</td>\n",
       "      <td>2</td>\n",
       "      <td>{u'technology': 2}</td>\n",
       "      <td>{u'apps': 1, u'makerspaces': 1}</td>\n",
       "      <td>{u'art': 1}</td>\n",
       "      <td>{u'illustration': 1}</td>\n",
       "    </tr>\n",
       "    <tr>\n",
       "      <th>1</th>\n",
       "      <td>1336310480</td>\n",
       "      <td>0</td>\n",
       "      <td>1</td>\n",
       "      <td>{u'technology': 1}</td>\n",
       "      <td>{u'apps': 1}</td>\n",
       "      <td>{}</td>\n",
       "      <td>{}</td>\n",
       "    </tr>\n",
       "    <tr>\n",
       "      <th>2</th>\n",
       "      <td>1890506943</td>\n",
       "      <td>0</td>\n",
       "      <td>1</td>\n",
       "      <td>{u'technology': 1}</td>\n",
       "      <td>{u'apps': 1}</td>\n",
       "      <td>{}</td>\n",
       "      <td>{}</td>\n",
       "    </tr>\n",
       "    <tr>\n",
       "      <th>3</th>\n",
       "      <td>1750943208</td>\n",
       "      <td>0</td>\n",
       "      <td>1</td>\n",
       "      <td>{u'technology': 1}</td>\n",
       "      <td>{u'apps': 1}</td>\n",
       "      <td>{}</td>\n",
       "      <td>{}</td>\n",
       "    </tr>\n",
       "    <tr>\n",
       "      <th>4</th>\n",
       "      <td>puppy1</td>\n",
       "      <td>0</td>\n",
       "      <td>2</td>\n",
       "      <td>{u'fashion': 1, u'technology': 1}</td>\n",
       "      <td>{u'pet fashion': 1, u'apps': 1}</td>\n",
       "      <td>{}</td>\n",
       "      <td>{}</td>\n",
       "    </tr>\n",
       "  </tbody>\n",
       "</table>\n",
       "</div>"
      ],
      "text/plain": [
       "   creator_id  backed  created           created_super_categories  \\\n",
       "0  dstechlabs       0        2                 {u'technology': 2}   \n",
       "1  1336310480       0        1                 {u'technology': 1}   \n",
       "2  1890506943       0        1                 {u'technology': 1}   \n",
       "3  1750943208       0        1                 {u'technology': 1}   \n",
       "4      puppy1       0        2  {u'fashion': 1, u'technology': 1}   \n",
       "\n",
       "       created_specific_categories backed_super_categories  \\\n",
       "0  {u'apps': 1, u'makerspaces': 1}             {u'art': 1}   \n",
       "1                     {u'apps': 1}                      {}   \n",
       "2                     {u'apps': 1}                      {}   \n",
       "3                     {u'apps': 1}                      {}   \n",
       "4  {u'pet fashion': 1, u'apps': 1}                      {}   \n",
       "\n",
       "  backed_specific_categories  \n",
       "0       {u'illustration': 1}  \n",
       "1                         {}  \n",
       "2                         {}  \n",
       "3                         {}  \n",
       "4                         {}  "
      ]
     },
     "execution_count": 386,
     "metadata": {},
     "output_type": "execute_result"
    }
   ],
   "source": [
    "df_tech_creators.head()"
   ]
  },
  {
   "cell_type": "code",
   "execution_count": 415,
   "metadata": {
    "collapsed": true
   },
   "outputs": [],
   "source": [
    "def interest_similarity(backed, created):\n",
    "    if not isinstance(backed, Counter) and not isinstance(created, Counter):\n",
    "        raise TypeError \n",
    "    result = sum(map(lambda k: backed[k], created.keys()))\n",
    "    try:\n",
    "        return float(result) / sum(backed.values())\n",
    "    except ZeroDivisionError:\n",
    "        return np.nan"
   ]
  },
  {
   "cell_type": "code",
   "execution_count": null,
   "metadata": {
    "collapsed": false
   },
   "outputs": [],
   "source": [
    "df_tech_creators['super_similarity'] = df_tech_creators \\\n",
    "    .apply(lambda x: interest_similarity(x.backed_super_categories, x.created_super_categories), axis=1)\n",
    "    \n",
    "df_tech_creators['specific_similarity'] = df_tech_creators \\\n",
    "    .apply(lambda x: interest_similarity(x.backed_specific_categories, x.created_specific_categories), axis=1)"
   ]
  },
  {
   "cell_type": "markdown",
   "metadata": {},
   "source": [
    "**Compute interest-based similarities**\n",
    "\n",
    "$S_I = \\frac{\\#\\ of\\ backed\\ in\\ created||}{\\#\\ of\\ backed}$"
   ]
  },
  {
   "cell_type": "code",
   "execution_count": 438,
   "metadata": {
    "collapsed": true
   },
   "outputs": [],
   "source": [
    "def mean_super_similarity(min_backed):\n",
    "    if min_backed < 1:\n",
    "        raise ValueError\n",
    "    indices = (pd.notnull(df_tech_creators.super_similarity)) & (df_tech_creators.backed > min_backed)\n",
    "    return df_tech_creators.super_similarity[indices].mean()\n",
    "\n",
    "df_plot = pd.DataFrame({'min_backed': range(1, 701, 5),\n",
    "             'mean_super_similarity': [mean_super_similarity(n) for n in range(1, 701, 5)]})"
   ]
  },
  {
   "cell_type": "code",
   "execution_count": 471,
   "metadata": {
    "collapsed": false
   },
   "outputs": [
    {
     "data": {
      "text/plain": [
       "<matplotlib.figure.Figure at 0x1a703a110>"
      ]
     },
     "metadata": {},
     "output_type": "display_data"
    },
    {
     "data": {
      "image/png": "[encoded data removed]",
      "text/plain": [
       "<matplotlib.figure.Figure at 0x123143050>"
      ]
     },
     "metadata": {},
     "output_type": "display_data"
    }
   ],
   "source": [
    "def percentage(x, pos):\n",
    "    'The two args are the value and tick position'\n",
    "    return '%d' % (x * 100)\n",
    "\n",
    "def x_formatter(x, pos):\n",
    "    if (x - 1) % 10 != 0:\n",
    "        return \"\"\n",
    "    return str((x - 1) * 5 + 1)\n",
    "\n",
    "plt.figure()\n",
    "ax = df_plot.plot.bar(x='min_backed', y='mean_super_similarity', figsize=(10, 5))\n",
    "ax.set_ylabel('Interst similarity between created projects and backed projects (%)')\n",
    "ax.set_xlabel('Minimum # of Projects Backed')\n",
    "ax.set_ylim(bottom=0.0, top=1.0)\n",
    "ax.yaxis.set_major_formatter(FuncFormatter(percentage))\n",
    "ax.xaxis.set_major_formatter(FuncFormatter(x_formatter))"
   ]
  },
  {
   "cell_type": "code",
   "execution_count": null,
   "metadata": {
    "collapsed": false
   },
   "outputs": [],
   "source": [
    "def mean_specific_similarity(min_backed):\n",
    "    if min_backed < 1:\n",
    "        raise ValueError\n",
    "    indices = (pd.notnull(df_tech_creators.specific_similarity)) & (df_tech_creators.backed > min_backed)\n",
    "    return df_tech_creators.specific_similarity[indices].mean()\n",
    "\n",
    "df_plot_specific = pd.DataFrame({'min_backed': range(1, 701, 5),\n",
    "             'mean_super_similarity': [mean_specific_similarity(n) for n in range(1, 701, 5)]})"
   ]
  },
  {
   "cell_type": "code",
   "execution_count": 473,
   "metadata": {
    "collapsed": false
   },
   "outputs": [
    {
     "data": {
      "text/plain": [
       "<matplotlib.figure.Figure at 0x118150410>"
      ]
     },
     "metadata": {},
     "output_type": "display_data"
    },
    {
     "data": {
      "image/png": "[encoded data removed]",
      "text/plain": [
       "<matplotlib.figure.Figure at 0x1a60ac710>"
      ]
     },
     "metadata": {},
     "output_type": "display_data"
    }
   ],
   "source": [
    "def percentage(x, pos):\n",
    "    'The two args are the value and tick position'\n",
    "    return '%d' % (x * 100)\n",
    "\n",
    "def x_formatter(x, pos):\n",
    "    if (x - 1) % 10 != 0:\n",
    "        return \"\"\n",
    "    return str((x - 1) * 5 + 1)\n",
    "\n",
    "plt.figure()\n",
    "ax = df_plot_specific.plot.bar(x='min_backed', y='mean_specific_similarity', figsize=(10, 5))\n",
    "ax.set_ylabel('Interst similarity between created projects and backed projects (%)')\n",
    "ax.set_xlabel('Minimum # of Projects Backed')\n",
    "ax.set_ylim(bottom=0.0, top=1.0)\n",
    "ax.yaxis.set_major_formatter(FuncFormatter(percentage))\n",
    "ax.xaxis.set_major_formatter(FuncFormatter(x_formatter))"
   ]
  },
  {
   "cell_type": "markdown",
   "metadata": {},
   "source": [
    "## H4.2: Similarity (Location-Based)\n",
    "** People are more willing to back creators from the same country they are from. **\n",
    "\n",
    "We thought that location might also be important in a backers' decision making process. According to the similarity theory, projects would get most help from the creator's country. For example, if there are 2 similar projects A and B. The creator of A is from Canada, while that of B is from Australia. Based on this hypothesis, there will be more Canadian backers for project A, and more Australian backers for project B.\n",
    "\n",
    "We define in location-based similarity $S_L$ for each project, a measure with range [0, 1.0] that represents the fraction of projects backers from the same country as the project creator among all the backers.\n",
    "\n",
    "The result showed that more than 60% of the backers were from the same country as the project creators among all projects in the Tech dataset, which we considered as a support of H4.2. However, marketing might be a confounding factor in this hypothesis, since it's very common that the target audience of a project and the creator are from the same place."
   ]
  },
  {
   "cell_type": "code",
   "execution_count": 163,
   "metadata": {
    "collapsed": true
   },
   "outputs": [],
   "source": [
    "df = pd.read_csv('data/Kickstarter_Tech.csv', encoding='utf-8', index_col=0)"
   ]
  },
  {
   "cell_type": "code",
   "execution_count": 164,
   "metadata": {
    "collapsed": false
   },
   "outputs": [
    {
     "data": {
      "text/html": [
       "<div>\n",
       "<table border=\"1\" class=\"dataframe\">\n",
       "  <thead>\n",
       "    <tr style=\"text-align: right;\">\n",
       "      <th></th>\n",
       "      <th>location</th>\n",
       "      <th>top_countries</th>\n",
       "    </tr>\n",
       "  </thead>\n",
       "  <tbody>\n",
       "    <tr>\n",
       "      <th>1928</th>\n",
       "      <td>{\"country\":\"US\",\"urls\":{\"web\":{\"discover\":\"htt...</td>\n",
       "      <td>[[\"AR\", 10], [\"US\", 10], [\"SG\", 1], [\"GB\", 1]]</td>\n",
       "    </tr>\n",
       "    <tr>\n",
       "      <th>9188</th>\n",
       "      <td>{\"country\":\"AT\",\"urls\":{\"web\":{\"discover\":\"htt...</td>\n",
       "      <td>[[\"AT\", 18], [\"US\", 4], [\"DE\", 1], [\"KR\", 1], ...</td>\n",
       "    </tr>\n",
       "    <tr>\n",
       "      <th>5484</th>\n",
       "      <td>{\"country\":\"AT\",\"urls\":{\"web\":{\"discover\":\"htt...</td>\n",
       "      <td>[[\"AT\", 25], [\"DE\", 1], [\"US\", 1]]</td>\n",
       "    </tr>\n",
       "    <tr>\n",
       "      <th>4989</th>\n",
       "      <td>{\"country\":\"AU\",\"urls\":{\"web\":{\"discover\":\"htt...</td>\n",
       "      <td>[[\"AU\", 102], [\"US\", 15], [\"GB\", 14], [\"SG\", 6...</td>\n",
       "    </tr>\n",
       "    <tr>\n",
       "      <th>6932</th>\n",
       "      <td>{\"country\":\"AU\",\"urls\":{\"web\":{\"discover\":\"htt...</td>\n",
       "      <td>[[\"AU\", 10], [\"US\", 1]]</td>\n",
       "    </tr>\n",
       "  </tbody>\n",
       "</table>\n",
       "</div>"
      ],
      "text/plain": [
       "                                               location  \\\n",
       "1928  {\"country\":\"US\",\"urls\":{\"web\":{\"discover\":\"htt...   \n",
       "9188  {\"country\":\"AT\",\"urls\":{\"web\":{\"discover\":\"htt...   \n",
       "5484  {\"country\":\"AT\",\"urls\":{\"web\":{\"discover\":\"htt...   \n",
       "4989  {\"country\":\"AU\",\"urls\":{\"web\":{\"discover\":\"htt...   \n",
       "6932  {\"country\":\"AU\",\"urls\":{\"web\":{\"discover\":\"htt...   \n",
       "\n",
       "                                          top_countries  \n",
       "1928     [[\"AR\", 10], [\"US\", 10], [\"SG\", 1], [\"GB\", 1]]  \n",
       "9188  [[\"AT\", 18], [\"US\", 4], [\"DE\", 1], [\"KR\", 1], ...  \n",
       "5484                 [[\"AT\", 25], [\"DE\", 1], [\"US\", 1]]  \n",
       "4989  [[\"AU\", 102], [\"US\", 15], [\"GB\", 14], [\"SG\", 6...  \n",
       "6932                            [[\"AU\", 10], [\"US\", 1]]  "
      ]
     },
     "execution_count": 164,
     "metadata": {},
     "output_type": "execute_result"
    }
   ],
   "source": [
    "df.sort_values(by='top_countries').get(['location', 'top_countries']).head() # For visualization"
   ]
  },
  {
   "cell_type": "code",
   "execution_count": 171,
   "metadata": {
    "collapsed": false
   },
   "outputs": [],
   "source": [
    "creator_country_series = df.location.apply(lambda x: json.loads(x)['country'])\n",
    "backer_countries_series = df.top_countries.apply(lambda x: Counter(dict(json.loads(x))))"
   ]
  },
  {
   "cell_type": "markdown",
   "metadata": {},
   "source": [
    "** Compute localtion-based similarities **\n",
    "\n",
    "$S_L = \\frac{\\#\\ of \\ Backers\\ from\\ The\\ Same\\ Country}{\\#\\ of\\ Total\\ Backers}$ "
   ]
  },
  {
   "cell_type": "code",
   "execution_count": 185,
   "metadata": {
    "collapsed": false
   },
   "outputs": [],
   "source": [
    "similarities = []\n",
    "for cc, bcs in zip(creator_country_series, backer_countries_series):\n",
    "    total = sum(bcs.values())\n",
    "    if cc in bcs:\n",
    "        similarities.append(bcs[cc] / float(total))\n",
    "    elif total > 0:\n",
    "        similarities.append(0.0)\n",
    "    else:\n",
    "        similarities.append(np.nan)\n",
    "similarities = np.array(similarities)"
   ]
  },
  {
   "cell_type": "code",
   "execution_count": 280,
   "metadata": {
    "collapsed": false
   },
   "outputs": [
    {
     "name": "stdout",
     "output_type": "stream",
     "text": [
      "9153 projects didn't have any backers at all.\n",
      "58 projects didn't have any backers from the same country.\n"
     ]
    }
   ],
   "source": [
    "nan_count = np.sum(np.isnan(similarities))\n",
    "print(\"%d projects didn't have any backers at all.\" % (nan_count))\n",
    "zero_count = np.sum(similarities == 0.0)\n",
    "print(\"%d projects didn't have any backers from the same country.\" % (zero_count))"
   ]
  },
  {
   "cell_type": "code",
   "execution_count": 279,
   "metadata": {
    "collapsed": false
   },
   "outputs": [
    {
     "name": "stdout",
     "output_type": "stream",
     "text": [
      "64.7% of backers are from the same country as the project creator.\n"
     ]
    }
   ],
   "source": [
    "mean_similarity = np.mean(similarities[np.logical_not(np.isnan(similarities))])\n",
    "print(\"%2.1f%% of backers are from the same country as the project creator.\" % (mean_similarity * 100))"
   ]
  },
  {
   "cell_type": "markdown",
   "metadata": {},
   "source": [
    "## H5: Effort\n",
    "** Our Hypothesis: People who browse projects will be more likely to back creators who seem to put more effort into their Kickstarter Page. **\n",
    "\n",
    "Let's define \"effort\" here as length of the Descriptions and Risks and Challenges section, as well as checking to see if Kickstarter project owners uploaded a video to their page.\n",
    "\n",
    "Our results show that users with successful projects indeed do write more in both their Descriptions and Risks and Challenges section. We measured average length as the average character count, and found Descriptions average to be 5088 vs. 2806 (success vs. failed projects), and Risks and Challenges average to be 869 vs. 628 (succcess vs. failed projects). For videos, we found that the average number of videos per page is .9 on a successful page, vs. .6 on a failed page. Thus, we conclude that putting more effort on your page will lead it to be more successful. \n",
    "\n",
    "We cannot however make the assumption that just length and having a video matter, there was obviously something that went into the quality of the writing and video for it to be successful."
   ]
  },
  {
   "cell_type": "code",
   "execution_count": 17,
   "metadata": {
    "collapsed": false
   },
   "outputs": [],
   "source": [
    "df = pd.read_csv('data/Kickstarter_Tech.csv', encoding='utf-8', index_col=0)"
   ]
  },
  {
   "cell_type": "code",
   "execution_count": 19,
   "metadata": {
    "collapsed": false
   },
   "outputs": [],
   "source": [
    "#make two dataframes, one for successful, one for failed projects\n",
    "kstr_tech_success = df[df['state'] == 'successful']\n",
    "kstr_tech_failed = df[df['state'] == 'failed']"
   ]
  },
  {
   "cell_type": "code",
   "execution_count": 20,
   "metadata": {
    "collapsed": true
   },
   "outputs": [],
   "source": [
    "def check_avg_len(data):\n",
    "    sum = 0\n",
    "    count_nan=0\n",
    "    for dat in data:\n",
    "        try:\n",
    "            sum += len(dat)\n",
    "        except:\n",
    "            count_nan+=1\n",
    "            sum += 0\n",
    "    return sum/float(len(data) - count_nan), count_nan"
   ]
  },
  {
   "cell_type": "code",
   "execution_count": 21,
   "metadata": {
    "collapsed": false
   },
   "outputs": [
    {
     "name": "stdout",
     "output_type": "stream",
     "text": [
      "avg_failed_desc 2806.9330362\n",
      "nan_count 0\n",
      "\n",
      "\n",
      "avg_success_desc 5088.07827203\n",
      "nan_count 0\n",
      "\n",
      "\n",
      "avg_failed_risks 628.523866478\n",
      "nan_count 2\n",
      "\n",
      "\n",
      "avg_success_risks 869.142062473\n",
      "nan_count 1\n"
     ]
    }
   ],
   "source": [
    "#avg length of description for failed projects\n",
    "failed_descriptions = kstr_tech_failed['descriptions']\n",
    "avg_failed_desc, nan_count = check_avg_len(failed_descriptions)\n",
    "print \"avg_failed_desc\", avg_failed_desc\n",
    "print \"nan_count\", nan_count\n",
    "\n",
    "print \"\\n\"\n",
    "\n",
    "#avg length of descriptions for successful projects\n",
    "successful_descriptions = kstr_tech_success['descriptions']\n",
    "avg_success_desc, nan_count = check_avg_len(successful_descriptions)\n",
    "print \"avg_success_desc\", avg_success_desc\n",
    "print \"nan_count\", nan_count\n",
    "\n",
    "print \"\\n\"\n",
    "\n",
    "#avg length of risks for failed projects\n",
    "failed_risks = kstr_tech_failed['risks_and_challenges']\n",
    "avg_failed_risks, nan_count = check_avg_len(failed_risks)\n",
    "print \"avg_failed_risks\", avg_failed_risks\n",
    "print \"nan_count\", nan_count\n",
    "\n",
    "print \"\\n\"\n",
    "\n",
    "#avg length of risks for successful projects\n",
    "success_risks = kstr_tech_success['risks_and_challenges']\n",
    "avg_success_risks, nan_count = check_avg_len(success_risks)\n",
    "print \"avg_success_risks\", avg_success_risks\n",
    "print \"nan_count\", nan_count"
   ]
  },
  {
   "cell_type": "code",
   "execution_count": 22,
   "metadata": {
    "collapsed": false
   },
   "outputs": [
    {
     "name": "stdout",
     "output_type": "stream",
     "text": [
      "Average number of videos per page for successful projects 0.906757912746\n",
      "Average number of videos per page for failed projects 0.579084683118\n"
     ]
    }
   ],
   "source": [
    "#now let's check for videos as video/kickstarter page\n",
    "print \"Average number of videos per page for successful projects\",sum(kstr_tech_success['has_video'])/ float(len(kstr_tech_success))\n",
    "print \"Average number of videos per page for failed projects\",sum(kstr_tech_failed['has_video'])/float(len(kstr_tech_failed))"
   ]
  },
  {
   "cell_type": "markdown",
   "metadata": {},
   "source": [
    "## H6: Language\n",
    "** Creators want potential backers to feel comfortable with their risks and challenges so successful projects use polite/ thankful language and positive sentiment. **\n",
    "\n",
    "** Measuring Politeness/Gratitude **\n",
    "\n",
    "We decided to measure politeness/gratitude by identifying some key words that expressed gratitude or politeness such as \"thankful\", \"gratitude\", etc. Instead of compiling a list ourselves, we found a politeness model [5], based on Danescu-Niculescu-Mizil et al.'s paper [6], downloaded a corpus of positive words that they use(\"liu-positive-words.txt\"), and used it to search our Risks and Challenges section.\n",
    "\n",
    "We measured a politeness/gratitude \"score\" for successful and failed projects. The results are:\n",
    "Average score for Successful Projects:  0.0756236804884\n",
    "Average score for Failed Projects:  0.0724241471227\n",
    "Looking at the example printed in the cells below, we can see that these scores being low doesn't mean that the text isn't polite, scores are low because risks and challenges are long compared to the number of gratitude words they can even use. However, because Successful projects Risks and Challenges lengths are slightly longer, we could, but not confidently attribute the Successful Projects to being a little more polite.\n",
    "\n",
    "\n",
    "** Measuring Positive Sentiment**\n",
    "\n",
    "We used the VADER package [7] to measure sentiment of the Risks and Challenges. An example can be seen in the cells below. We were looking for overall positive sentiment, but our scores were in the neutral category, which makes sense. So, there were no new or cool findings with this."
   ]
  },
  {
   "cell_type": "code",
   "execution_count": 24,
   "metadata": {
    "collapsed": false
   },
   "outputs": [
    {
     "data": {
      "text/plain": [
       "2007"
      ]
     },
     "execution_count": 24,
     "metadata": {},
     "output_type": "execute_result"
    }
   ],
   "source": [
    "text_file = open('data/liu-positive-words.txt', 'r')\n",
    "positive_words = text_file.read().split('\\n')\n",
    "len(positive_words)"
   ]
  },
  {
   "cell_type": "code",
   "execution_count": 25,
   "metadata": {
    "collapsed": true
   },
   "outputs": [],
   "source": [
    "#for successful projects:\n",
    "success_rc = kstr_tech_success['risks_and_challenges']\n",
    "#for failed projects:\n",
    "failed_rc = kstr_tech_failed['risks_and_challenges']"
   ]
  },
  {
   "cell_type": "code",
   "execution_count": 26,
   "metadata": {
    "collapsed": true
   },
   "outputs": [],
   "source": [
    "def remove_stop_and_punct(sent, add_to_stop):\n",
    "    stop = stopwords.words('english')\n",
    "    punct = [r for r in string.punctuation]\n",
    "    to_remove = stop + punct \n",
    "    if add_to_stop:\n",
    "        to_remove += add_to_stop\n",
    "    sent = [i for i in sent if i not in to_remove]\n",
    "    return sent\n",
    "\n",
    "def cleaned_sentences(sentences, add_to_stop):\n",
    "    cleaned = []\n",
    "    for sent in sentences:\n",
    "        sent = sent.lower()\n",
    "        cleaned.append(remove_stop_and_punct(nltk.word_tokenize(sent), add_to_stop))\n",
    "    return cleaned\n",
    "\n",
    "def get_sentences(risk):\n",
    "    sent_detector = nltk.data.load('tokenizers/punkt/english.pickle')\n",
    "    return sent_detector.tokenize(risk)\n",
    "\n",
    "\n",
    "def get_tokenized_org(risks, stop_words_list= None):\n",
    "    tokenized = []\n",
    "    count_na  = 0\n",
    "    for risk in risks:\n",
    "        try:\n",
    "            sent_tokenized = get_sentences(risk)\n",
    "            temp = cleaned_sentences(sent_tokenized, stop_words_list)\n",
    "            temp = [item for sublist in temp for item in sublist] \n",
    "            tokenized.append(temp)\n",
    "        except:\n",
    "            print risk\n",
    "            count_na+=1\n",
    "            tokenized.append(float('nan'))\n",
    "    return tokenized, count_na"
   ]
  },
  {
   "cell_type": "markdown",
   "metadata": {},
   "source": [
    "word tokenize"
   ]
  },
  {
   "cell_type": "code",
   "execution_count": 27,
   "metadata": {
    "collapsed": false
   },
   "outputs": [
    {
     "name": "stdout",
     "output_type": "stream",
     "text": [
      "nan\n",
      "1\n"
     ]
    }
   ],
   "source": [
    "#one nan, meaning this was either a section without risks and challenges, or \n",
    "#a very weirdly formatted page\n",
    "tokenized_risks_sc, count_na_risks_sc  = get_tokenized_org(success_rc,None)\n",
    "print count_na_risks_sc"
   ]
  },
  {
   "cell_type": "code",
   "execution_count": 28,
   "metadata": {
    "collapsed": false
   },
   "outputs": [
    {
     "name": "stdout",
     "output_type": "stream",
     "text": [
      "nan\n",
      "nan\n"
     ]
    },
    {
     "data": {
      "text/plain": [
       "2"
      ]
     },
     "execution_count": 28,
     "metadata": {},
     "output_type": "execute_result"
    }
   ],
   "source": [
    "tokenized_risks_f, count_na_risks_f = get_tokenized_org(failed_rc, None)\n",
    "count_na_risks_f"
   ]
  },
  {
   "cell_type": "code",
   "execution_count": 29,
   "metadata": {
    "collapsed": true
   },
   "outputs": [],
   "source": [
    "#define polite/gratitude as the number of polite/positive words normalized by the length of the text\n",
    "def score(risk):\n",
    "    count_positive = 0\n",
    "    for word in risk:\n",
    "        if word in positive_words:\n",
    "            count_positive+=1\n",
    "    score = float(count_positive)/len(risk)\n",
    "    return score, count_positive\n",
    "\n",
    "def get_polite_score_arr(tokenized_risks):\n",
    "    grattitude_scores = []\n",
    "    for risk in tokenized_risks:\n",
    "        try:\n",
    "            sc, _pc = score(risk)\n",
    "            grattitude_scores.append(sc)\n",
    "        except:\n",
    "            #for na, append na \n",
    "            grattitude_scores.append(float('nan'))\n",
    "    return grattitude_scores"
   ]
  },
  {
   "cell_type": "code",
   "execution_count": 30,
   "metadata": {
    "collapsed": false
   },
   "outputs": [
    {
     "name": "stdout",
     "output_type": "stream",
     "text": [
      "As with any electro-mechanical product, there are risks associated with producing a sophisticated device such as The Hercules.  Supporters should feel very confident that we have spent the past 6 months product testing The Hercules by professional videographers and filmmakers.\n",
      "We performed a prototype build as well as a preproduction build using a small quantity of units.  By doing so, we worked out the manufacturing bugs that doomed so many projects on Kickstarter.\n",
      "The risks associated with this product is greatly reduced by the steps we have taken prior to full scale manufacturing.\n"
     ]
    }
   ],
   "source": [
    "##print an example to see if it makes sense:\n",
    "print success_risks.iloc[0]"
   ]
  },
  {
   "cell_type": "code",
   "execution_count": 31,
   "metadata": {
    "collapsed": false
   },
   "outputs": [
    {
     "data": {
      "text/plain": [
       "(0.08163265306122448, 4)"
      ]
     },
     "execution_count": 31,
     "metadata": {},
     "output_type": "execute_result"
    }
   ],
   "source": [
    "#problem with this \"score\" because there aren't a lot of gratitude words compared\n",
    "#to the length of th\n",
    "score(tokenized_risks_sc[0])"
   ]
  },
  {
   "cell_type": "code",
   "execution_count": 32,
   "metadata": {
    "collapsed": true
   },
   "outputs": [],
   "source": [
    "grattitude_score_sc = get_polite_score_arr(tokenized_risks_sc)\n",
    "grattitude_score_f = get_polite_score_arr(tokenized_risks_f)"
   ]
  },
  {
   "cell_type": "code",
   "execution_count": 33,
   "metadata": {
    "collapsed": false
   },
   "outputs": [
    {
     "name": "stdout",
     "output_type": "stream",
     "text": [
      "Average score for Successful Projects:  0.0756236804884\n",
      "Average score for Failed Projects:  0.0724241471227\n"
     ]
    }
   ],
   "source": [
    "#get averages of scores\n",
    "print \"Average score for Successful Projects: \",np.nanmean(np.asarray(grattitude_score_sc))\n",
    "print \"Average score for Failed Projects: \", np.nanmean(np.asarray(grattitude_score_f))"
   ]
  },
  {
   "cell_type": "code",
   "execution_count": 34,
   "metadata": {
    "collapsed": true
   },
   "outputs": [],
   "source": [
    "#let's plot the count of gratitude words used over all successful and all failed projects\n",
    "#to compare these graphs\n",
    "def get_pos_word_array(risks):\n",
    "    arr = []\n",
    "    na_count  = 0\n",
    "    max_pc = 0\n",
    "    idx = 0\n",
    "    for risk in risks:\n",
    "        try:\n",
    "            sc, pc = score(risk)\n",
    "            arr.append(pc)\n",
    "            if pc > max_pc:\n",
    "                best_risk = risk\n",
    "                best_idx = idx\n",
    "        #for na, don't append\n",
    "        except:\n",
    "            print risk\n",
    "            na_count += 1\n",
    "        idx+=1\n",
    "    return arr, na_count, best_risk, best_idx\n",
    "\n",
    "# pos_count_s = get_pos_word_array(tokenized_risks_sc)\n",
    "# pos_count_f = get_pos_word_array(tokenized_risks_f)"
   ]
  },
  {
   "cell_type": "code",
   "execution_count": 35,
   "metadata": {
    "collapsed": false
   },
   "outputs": [
    {
     "name": "stdout",
     "output_type": "stream",
     "text": [
      "nan\n"
     ]
    }
   ],
   "source": [
    "#also get the risk with the most positive words\n",
    "pos_count_s, na_count_s, best_risk_s, best_idx_s = get_pos_word_array(tokenized_risks_sc)"
   ]
  },
  {
   "cell_type": "code",
   "execution_count": 37,
   "metadata": {
    "collapsed": false
   },
   "outputs": [
    {
     "name": "stdout",
     "output_type": "stream",
     "text": [
      "[]\n",
      "[]\n",
      "[]\n",
      "[]\n",
      "nan\n",
      "nan\n",
      "[]\n",
      "[]\n",
      "[]\n",
      "[]\n",
      "[]\n",
      "[]\n"
     ]
    }
   ],
   "source": [
    "#10 are blank for whatever reason, this could be that they didn't write anything\n",
    "#or that we couldn't successfully scrape 10 projects. 2 are na\n",
    "pos_count_f, na_count_f, best_risk_f, best_idx_f = get_pos_word_array(tokenized_risks_f) "
   ]
  },
  {
   "cell_type": "code",
   "execution_count": 39,
   "metadata": {
    "collapsed": false
   },
   "outputs": [
    {
     "name": "stdout",
     "output_type": "stream",
     "text": [
      "Range of politeness/gratitude words for successful projects is  0  to  46\n",
      "\n",
      "\n",
      "Range of politeness/gratitude words for failed projects is  0  to  111\n"
     ]
    }
   ],
   "source": [
    "print \"Range of politeness/gratitude words for successful projects is \", min(pos_count_s), \" to \", max(pos_count_s)\n",
    "print \"\\n\"\n",
    "print \"Range of politeness/gratitude words for failed projects is \", min(pos_count_f), \" to \", max(pos_count_f)"
   ]
  },
  {
   "cell_type": "markdown",
   "metadata": {},
   "source": [
    "** The most polite/gratitude word filled successful and failed risks and challenges blurbs are below **"
   ]
  },
  {
   "cell_type": "code",
   "execution_count": 36,
   "metadata": {
    "collapsed": false
   },
   "outputs": [
    {
     "name": "stdout",
     "output_type": "stream",
     "text": [
      "The primary challenge we face is writing the artificial intelligence algorithms. Creating robotics algorithms that work well in the real world is difficult because of complex and changing environments. Developing algorithms on a memory and speed limited microcontroller is even harder. The project has the risk of not achieving the dynamic intelligence we believe we can program into Mousr, resulting in slower reaction times or poor sensitivity at far distances. However, these are the kinds of challenges the team has studied and overcome in graduate school at the University of Illinois at Urbana-Champaign, as overviewed earlier. Additionally, we plan to make the firmware updatable through Bluetooth, allowing us to fix bugs and update algorithms even after shipment of the final hardware.There are several risks associated with manufacturing hardware that could delay the project. Some of the tasks we have to complete include creating tooling, making a test jig to ensure every Mousr off the line meets specifications, interfacing with foreign factories, handling the logistics of international shipping, and ensuring Mousr has all the proper certifications. We are going to run into challenges and setbacks throughout the process, but we're committed to ensuring an on time delivery, remaining transparent, and keeping everyone up to date with what's going on. Additionally, our large network of friends and mentors with decades of experience in manufacturing substantially reduces the manufacturing risks. Our primary mentors, the HAXLR8R team, have helped over 50 companies successfully manufacture hardware products.\n"
     ]
    }
   ],
   "source": [
    "# \"most polite\"\n",
    "print success_rc.iloc[best_idx_s]"
   ]
  },
  {
   "cell_type": "code",
   "execution_count": 38,
   "metadata": {
    "collapsed": false
   },
   "outputs": [
    {
     "name": "stdout",
     "output_type": "stream",
     "text": [
      "Since our first prototypes, we have come a long way and have been able to overcome many challenges. We have been able to do what really few people have been able to do: get a robot to run while selling it at an affordable price. We believe this is a real demonstration of how motivated we are and that we never give up, whatever the challenges are. Talking about challenges, do we think we are still facing some? Of course, we are, like in any innovative project. One of the main risks with a KickStarter project like this one is that it is really hard to estimate correctly how many backers one will have, which can change drastically the manufacturing methods. Fortunately enough, from our experience, we know and have been working with several manufacturers that will be able to handle a large range of production, from low-scale quantity to large-scale orders. The second risk we see is quality control. In order to get the best injected molded part, we will spend a huge amount of time perfecting the molds and will set up quality inspection at each stage of the manufacturing process. At Robotics Unlimited, we strive on delivering only the best!\n"
     ]
    }
   ],
   "source": [
    "#\"most polite\" (this is the 111 polite words)\n",
    "print failed_rc.iloc[best_idx_f]"
   ]
  },
  {
   "cell_type": "markdown",
   "metadata": {},
   "source": [
    "**Printing some more statistics shows that successful projects do use some more polite/grateful words **"
   ]
  },
  {
   "cell_type": "code",
   "execution_count": 40,
   "metadata": {
    "collapsed": false
   },
   "outputs": [
    {
     "name": "stdout",
     "output_type": "stream",
     "text": [
      "FOR FAILED PROJECTS:\n",
      "Median of polite/gratitude word count:  3\n",
      "Mean of polite/gratitude words count:  4.01295308588\n",
      "\n",
      "\n",
      "FOR SUCCESSFUL PROJECTS:\n",
      "Median of polite/gratitude word count:  5\n",
      "Mean of polite/gratitude words count:  5.69533590073\n"
     ]
    }
   ],
   "source": [
    "import statistics\n",
    "print \"FOR FAILED PROJECTS:\"\n",
    "print \"Median of polite/gratitude word count: \",statistics.median(pos_count_f)\n",
    "print \"Mean of polite/gratitude words count: \", statistics.mean(pos_count_f)\n",
    "print \"\\n\"\n",
    "print \"FOR SUCCESSFUL PROJECTS:\"\n",
    "print \"Median of polite/gratitude word count: \", statistics.median(pos_count_s)\n",
    "print \"Mean of polite/gratitude words count: \", statistics.mean(pos_count_s)\n"
   ]
  },
  {
   "cell_type": "markdown",
   "metadata": {},
   "source": [
    "**measure sentiment**"
   ]
  },
  {
   "cell_type": "code",
   "execution_count": 41,
   "metadata": {
    "collapsed": true
   },
   "outputs": [],
   "source": [
    "##use vader:\n",
    "import vaderSentiment\n",
    "from vaderSentiment import vaderSentiment\n",
    "\n",
    "def get_sentences2(risks):\n",
    "    nan_count = 0\n",
    "    tokenized_sent = []\n",
    "    for risk in risks:\n",
    "        try:\n",
    "            sent_detector = nltk.data.load('tokenizers/punkt/english.pickle')\n",
    "            tokenized_sent.append(sent_detector.tokenize(risk))\n",
    "        except:\n",
    "            #these are for all the nans\n",
    "            nan_count+=1\n",
    "    return tokenized_sent, nan_count\n",
    "\n",
    "def get_vader_sentiment(rc):\n",
    "    sentiments=[]\n",
    "    count_na = 0\n",
    "    for risk in rc:\n",
    "        try:\n",
    "            for sent in risk:\n",
    "                sentiments.append(vaderSentiment.sentiment(sent))\n",
    "        except:\n",
    "            count_na+=1  \n",
    "    return sentiments, count_na"
   ]
  },
  {
   "cell_type": "code",
   "execution_count": 42,
   "metadata": {
    "collapsed": true
   },
   "outputs": [],
   "source": [
    "tokenized_tech_failed_rc, nan_count_failed_rc = get_sentences2(failed_rc)\n",
    "tokenized_tech_success_rc, nan_count_success_rc = get_sentences2(success_rc)"
   ]
  },
  {
   "cell_type": "code",
   "execution_count": 43,
   "metadata": {
    "collapsed": true
   },
   "outputs": [],
   "source": [
    "#for successful projects:\n",
    "success_sentiment, count_na_s = get_vader_sentiment(tokenized_tech_success_rc)\n",
    "#for failed projects:\n",
    "failed_sentiment, count_na_f = get_vader_sentiment(tokenized_tech_failed_rc)"
   ]
  },
  {
   "cell_type": "markdown",
   "metadata": {},
   "source": [
    "** Let's check to see if sentiment scores make sense. The 4 cells below show the sentiment and example for a successful project and a failed project **"
   ]
  },
  {
   "cell_type": "code",
   "execution_count": 49,
   "metadata": {
    "collapsed": false
   },
   "outputs": [
    {
     "data": {
      "text/plain": [
       "{'compound': 0.3612, 'neg': 0.101, 'neu': 0.725, 'pos': 0.174}"
      ]
     },
     "execution_count": 49,
     "metadata": {},
     "output_type": "execute_result"
    }
   ],
   "source": [
    "success_sentiment[0]"
   ]
  },
  {
   "cell_type": "code",
   "execution_count": 50,
   "metadata": {
    "collapsed": false
   },
   "outputs": [
    {
     "data": {
      "text/plain": [
       "[u'As with any electro-mechanical product, there are risks associated with producing a sophisticated device such as The Hercules.',\n",
       " u'Supporters should feel very confident that we have spent the past 6 months product testing The Hercules by professional videographers and filmmakers.',\n",
       " u'We performed a prototype build as well as a preproduction build using a small quantity of units.',\n",
       " u'By doing so, we worked out the manufacturing bugs that doomed so many projects on Kickstarter.',\n",
       " u'The risks associated with this product is greatly reduced by the steps we have taken prior to full scale manufacturing.']"
      ]
     },
     "execution_count": 50,
     "metadata": {},
     "output_type": "execute_result"
    }
   ],
   "source": [
    "tokenized_tech_success_rc[0]"
   ]
  },
  {
   "cell_type": "code",
   "execution_count": 45,
   "metadata": {
    "collapsed": false
   },
   "outputs": [
    {
     "data": {
      "text/plain": [
       "[u\"I've been a software developer for 40 years.\",\n",
       " u'To me, \"can\\'t\" is a four letter word I almost never use.',\n",
       " u'And I have always finished what I started.',\n",
       " u'See more about me in the [About] section of dstechlabs.comThe first task is to assemble a small team of quality software developers and inspire greatness from them.',\n",
       " u'I\\'ve been a successful team-lead for decades and can guide them to Keep Code Simple, Consistent and Maintainable.The next task is finding a suitable online advertising manager who will talk to manufacturers and convince them that donating products is far less expensive than other ad campaigns.From there, we plug on toward our \"Go Live\" event in the fourth quarter of 2016.']"
      ]
     },
     "execution_count": 45,
     "metadata": {},
     "output_type": "execute_result"
    }
   ],
   "source": [
    "print failed_sentiment[0]\n",
    "tokenized_tech_failed_rc[0]"
   ]
  },
  {
   "cell_type": "code",
   "execution_count": 46,
   "metadata": {
    "collapsed": true
   },
   "outputs": [],
   "source": [
    "#now get overall sentiment average and return\n",
    "def return_avg_sentiment(sentiments):\n",
    "    compound_avg =  sum(sent['compound'] for sent in sentiments) / float(len(sentiments))\n",
    "    negative_avg =  sum(sent['neg'] for sent in sentiments) / float(len(sentiments))\n",
    "    neutral_avg =  sum(sent['neu'] for sent in sentiments) / float(len(sentiments))\n",
    "    positive_avg =  sum(sent['pos'] for sent in sentiments) / float(len(sentiments))\n",
    "    return {'compound': compound_avg, 'neg': negative_avg, 'neu': neutral_avg, 'pos': positive_avg}"
   ]
  },
  {
   "cell_type": "markdown",
   "metadata": {},
   "source": [
    "** The two cells below show the average sentiment of the successful and failed Risks and Challenges sections **"
   ]
  },
  {
   "cell_type": "code",
   "execution_count": 52,
   "metadata": {
    "collapsed": false
   },
   "outputs": [
    {
     "data": {
      "text/plain": [
       "{'compound': 0.2072480885820128,\n",
       " 'neg': 0.04264802963960934,\n",
       " 'neu': 0.8414690131357377,\n",
       " 'pos': 0.11504117547995922}"
      ]
     },
     "execution_count": 52,
     "metadata": {},
     "output_type": "execute_result"
    }
   ],
   "source": [
    "avg_success = return_avg_sentiment(success_sentiment)\n",
    "avg_success"
   ]
  },
  {
   "cell_type": "code",
   "execution_count": 53,
   "metadata": {
    "collapsed": false
   },
   "outputs": [
    {
     "data": {
      "text/plain": [
       "{'compound': 0.20430246387599543,\n",
       " 'neg': 0.04419672509817003,\n",
       " 'neu': 0.8339837538177238,\n",
       " 'pos': 0.11997223006442014}"
      ]
     },
     "execution_count": 53,
     "metadata": {},
     "output_type": "execute_result"
    }
   ],
   "source": [
    "avg_failed = return_avg_sentiment(failed_sentiment)\n",
    "avg_failed"
   ]
  },
  {
   "cell_type": "markdown",
   "metadata": {},
   "source": [
    "## Conclusions\n",
    "\n",
    "In conclusion, we tested many of the above hypotheses, some of which were proven right or wrong.\n",
    "\n",
    "Having been inspired originally by [1], we found that requesting for pizza on Reddit and setting up a Kickstarter page are very different. For example, [1] found that for requests, people are polite and use positive sentiment, but we couldn't reach a significant similar conclusion for Kickstarter. We tried working with topic models on the Risks and Challenges section within one subtopic within Technology to see if we could find different distributions of risk topics for failed and successful projects, but weren't successful so didn't include it in this notebook. Additionally, the language on Kickstarter is very different than requesting for pizza. On Kickstarter, it is less about requesting and telling why you need the money, but more about showcasing your product and telling others how cool it is.\n",
    "\n",
    "\n",
    "\n",
    "### Future Work.\n",
    "We started looking at user profiles on Kicktarter and reached conclusions about user similarities such as, users indeed do want to back projects that are similar (category + country) to their own. We saw there is a lot more information on users' profile page such as whether users are connected to Facebook, when they last logged in, and their name. We want to look at whether providing this information increases trust and helps projects get backed. Editor's also choose \"Projects we love\", and these projects in turn get a badge, so we could scrape this information and see if it helps projects. We noticed that a lot of these projects get overfunded, so we want to see at what point the projects get overfunded, and see how much people still continue to contribute to the project. Scraping this information is a little different than the data we have in that we'd have to scrape the same page overtime.\n"
   ]
  },
  {
   "cell_type": "code",
   "execution_count": null,
   "metadata": {
    "collapsed": true
   },
   "outputs": [],
   "source": []
  },
  {
   "cell_type": "markdown",
   "metadata": {},
   "source": [
    "## References\n",
    "1. Althoff, T., & Danescu-Niculescu-Mizil, C. (2014). How to ask for a favor: A case study on the success of altruistic requests. arXiv.org.\n",
    "2. Mitra, T., & Gilbert, E. (2014). The language that gets people to give: phrases that predict success on kickstarter (pp. 49–61). Presented at the CSCW '14: Proceedings of the 17th ACM conference on Computer supported cooperative work & social computing, ACM. http://doi.org/10.1145/2531602.2531656\n",
    "3. Ammons Scientific - Psychological Reports - 55(1):139 - PDF. (1984). Ammons Scientific - Psychological Reports - 55(1):139 - PDF. http://doi.org/10.2466/pr0.1984.55.1.139\n",
    "4. Persuasive technology: using computers to change what we think and do. (2002). Persuasive technology: using computers to change what we think and do.\n",
    "5. https://github.com/sudhof/politeness\n",
    "6. Cristian Danescu-Niculescu-Mizil, Moritz Sudhof, Dan Jurafsky, Jure Leskovec, Christopher Potts. A computational approach to politeness with application to social factors. Proceedings of ACL, 2013.\n",
    "7. https://pypi.python.org/pypi/vaderSentiment"
   ]
  },
  {
   "cell_type": "code",
   "execution_count": null,
   "metadata": {
    "collapsed": true
   },
   "outputs": [],
   "source": []
  }
 ],
 "metadata": {
  "kernelspec": {
   "display_name": "Python 2",
   "language": "python",
   "name": "python2"
  },
  "language_info": {
   "codemirror_mode": {
    "name": "ipython",
    "version": 2
   },
   "file_extension": ".py",
   "mimetype": "text/x-python",
   "name": "python",
   "nbconvert_exporter": "python",
   "pygments_lexer": "ipython2",
   "version": "2.7.11"
  }
 },
 "nbformat": 4,
 "nbformat_minor": 0
}
